{
 "cells": [
  {
   "cell_type": "markdown",
   "metadata": {},
   "source": [
    "# Обработка пропусков в данных, кодирование категориальных признаков, масштабирование данных."
   ]
  },
  {
   "cell_type": "code",
   "execution_count": 1,
   "metadata": {},
   "outputs": [],
   "source": [
    "import numpy as np\n",
    "import pandas as pd\n",
    "import seaborn as sns\n",
    "import matplotlib.pyplot as plt\n",
    "%matplotlib inline \n",
    "sns.set(style=\"ticks\")"
   ]
  },
  {
   "cell_type": "markdown",
   "metadata": {},
   "source": [
    "## Загрузка и первичный анализ данных\n",
    "\n",
    "Используем датасет [PC Games 2020](https://www.kaggle.com/jesneuman/pc-games) игр Steam с добавлением данных RAWG API"
   ]
  },
  {
   "cell_type": "code",
   "execution_count": 2,
   "metadata": {},
   "outputs": [],
   "source": [
    "# Будем использовать только обучающую выборку\n",
    "data = pd.read_csv('games.csv', sep=\",\")"
   ]
  },
  {
   "cell_type": "code",
   "execution_count": 3,
   "metadata": {},
   "outputs": [
    {
     "data": {
      "text/plain": [
       "(30250, 27)"
      ]
     },
     "execution_count": 3,
     "metadata": {},
     "output_type": "execute_result"
    }
   ],
   "source": [
    "# размер набора данных\n",
    "data.shape"
   ]
  },
  {
   "cell_type": "code",
   "execution_count": 4,
   "metadata": {},
   "outputs": [
    {
     "data": {
      "text/plain": [
       "Unnamed: 0            int64\n",
       "id                    int64\n",
       "Name                 object\n",
       "RawgID              float64\n",
       "SteamURL             object\n",
       "Metacritic          float64\n",
       "Genres               object\n",
       "Indie               float64\n",
       "Presence            float64\n",
       "Platform             object\n",
       "Graphics             object\n",
       "Storage              object\n",
       "Memory               object\n",
       "RatingsBreakdown     object\n",
       "ReleaseDate          object\n",
       "Soundtrack          float64\n",
       "Franchise            object\n",
       "OriginalCost         object\n",
       "DiscountedCost       object\n",
       "Players              object\n",
       "Controller          float64\n",
       "Languages            object\n",
       "ESRB                 object\n",
       "Achievements        float64\n",
       "Publisher           float64\n",
       "Description          object\n",
       "Tags                 object\n",
       "dtype: object"
      ]
     },
     "execution_count": 4,
     "metadata": {},
     "output_type": "execute_result"
    }
   ],
   "source": [
    "# типы колонок\n",
    "data.dtypes"
   ]
  },
  {
   "cell_type": "code",
   "execution_count": 5,
   "metadata": {},
   "outputs": [
    {
     "data": {
      "text/plain": [
       "Unnamed: 0              0\n",
       "id                      0\n",
       "Name                   94\n",
       "RawgID                 94\n",
       "SteamURL               55\n",
       "Metacritic          26894\n",
       "Genres               2968\n",
       "Indie                 205\n",
       "Presence               94\n",
       "Platform              127\n",
       "Graphics             4320\n",
       "Storage              2759\n",
       "Memory               1934\n",
       "RatingsBreakdown    15206\n",
       "ReleaseDate          3226\n",
       "Soundtrack            205\n",
       "Franchise           25163\n",
       "OriginalCost          746\n",
       "DiscountedCost      29523\n",
       "Players             17916\n",
       "Controller            274\n",
       "Languages             223\n",
       "ESRB                25503\n",
       "Achievements           94\n",
       "Publisher           30250\n",
       "Description           219\n",
       "Tags                  205\n",
       "dtype: int64"
      ]
     },
     "execution_count": 5,
     "metadata": {},
     "output_type": "execute_result"
    }
   ],
   "source": [
    "# проверим есть ли пропущенные значения\n",
    "data.isnull().sum()"
   ]
  },
  {
   "cell_type": "code",
   "execution_count": 6,
   "metadata": {},
   "outputs": [
    {
     "data": {
      "text/html": [
       "<div>\n",
       "<style scoped>\n",
       "    .dataframe tbody tr th:only-of-type {\n",
       "        vertical-align: middle;\n",
       "    }\n",
       "\n",
       "    .dataframe tbody tr th {\n",
       "        vertical-align: top;\n",
       "    }\n",
       "\n",
       "    .dataframe thead th {\n",
       "        text-align: right;\n",
       "    }\n",
       "</style>\n",
       "<table border=\"1\" class=\"dataframe\">\n",
       "  <thead>\n",
       "    <tr style=\"text-align: right;\">\n",
       "      <th></th>\n",
       "      <th>Unnamed: 0</th>\n",
       "      <th>id</th>\n",
       "      <th>Name</th>\n",
       "      <th>RawgID</th>\n",
       "      <th>SteamURL</th>\n",
       "      <th>Metacritic</th>\n",
       "      <th>Genres</th>\n",
       "      <th>Indie</th>\n",
       "      <th>Presence</th>\n",
       "      <th>Platform</th>\n",
       "      <th>...</th>\n",
       "      <th>OriginalCost</th>\n",
       "      <th>DiscountedCost</th>\n",
       "      <th>Players</th>\n",
       "      <th>Controller</th>\n",
       "      <th>Languages</th>\n",
       "      <th>ESRB</th>\n",
       "      <th>Achievements</th>\n",
       "      <th>Publisher</th>\n",
       "      <th>Description</th>\n",
       "      <th>Tags</th>\n",
       "    </tr>\n",
       "  </thead>\n",
       "  <tbody>\n",
       "    <tr>\n",
       "      <th>0</th>\n",
       "      <td>0</td>\n",
       "      <td>1</td>\n",
       "      <td>Counter-Strike: Global Offensive</td>\n",
       "      <td>4291.0</td>\n",
       "      <td>https://store.steampowered.com/app/730/?snr=1_...</td>\n",
       "      <td>83.0</td>\n",
       "      <td>Action, Free to Play</td>\n",
       "      <td>0.0</td>\n",
       "      <td>1009588.0</td>\n",
       "      <td>PC, Xbox 360, PlayStation 3</td>\n",
       "      <td>...</td>\n",
       "      <td>Free to Play</td>\n",
       "      <td>NaN</td>\n",
       "      <td>multiplayer, pvp, coop, online coop</td>\n",
       "      <td>1.0</td>\n",
       "      <td>English, Czech, Danish, Dutch, Finnish, French...</td>\n",
       "      <td>Mature</td>\n",
       "      <td>179.0</td>\n",
       "      <td>NaN</td>\n",
       "      <td>Counter-Strike is a multiplayer phenomenon in ...</td>\n",
       "      <td>FPS, Shooter, Multiplayer, Competitive, Action...</td>\n",
       "    </tr>\n",
       "    <tr>\n",
       "      <th>1</th>\n",
       "      <td>1</td>\n",
       "      <td>2</td>\n",
       "      <td>Destiny 2</td>\n",
       "      <td>32.0</td>\n",
       "      <td>https://store.steampowered.com/app/1085660/?sn...</td>\n",
       "      <td>82.0</td>\n",
       "      <td>Action, Adventure, Free to Play</td>\n",
       "      <td>0.0</td>\n",
       "      <td>1007425.0</td>\n",
       "      <td>PlayStation 5, Web, Xbox Series X, PC, Xbox On...</td>\n",
       "      <td>...</td>\n",
       "      <td>Free To Play</td>\n",
       "      <td>NaN</td>\n",
       "      <td>multiplayer, coop, online coop</td>\n",
       "      <td>1.0</td>\n",
       "      <td>English, French, Italian, German, Japanese, Ko...</td>\n",
       "      <td>Teen</td>\n",
       "      <td>61.0</td>\n",
       "      <td>NaN</td>\n",
       "      <td>Destiny 2 is an online multiplayer first-perso...</td>\n",
       "      <td>Free to Play, Looter Shooter, FPS, Multiplayer...</td>\n",
       "    </tr>\n",
       "    <tr>\n",
       "      <th>2</th>\n",
       "      <td>2</td>\n",
       "      <td>3</td>\n",
       "      <td>Dota 2</td>\n",
       "      <td>10213.0</td>\n",
       "      <td>https://store.steampowered.com/app/570/?snr=1_...</td>\n",
       "      <td>90.0</td>\n",
       "      <td>NaN</td>\n",
       "      <td>0.0</td>\n",
       "      <td>1009306.0</td>\n",
       "      <td>Linux, macOS, PC</td>\n",
       "      <td>...</td>\n",
       "      <td>Free to Play</td>\n",
       "      <td>NaN</td>\n",
       "      <td>multiplayer, pvp, coop, online coop</td>\n",
       "      <td>1.0</td>\n",
       "      <td>English, Bulgarian, Czech, Danish, Dutch, Finn...</td>\n",
       "      <td>NaN</td>\n",
       "      <td>0.0</td>\n",
       "      <td>NaN</td>\n",
       "      <td>What used to be an unofficial modded map for t...</td>\n",
       "      <td>Free to Play, MOBA, Multiplayer, Strategy, eSp...</td>\n",
       "    </tr>\n",
       "    <tr>\n",
       "      <th>3</th>\n",
       "      <td>3</td>\n",
       "      <td>4</td>\n",
       "      <td>The Elder Scrolls Online</td>\n",
       "      <td>41458.0</td>\n",
       "      <td>https://store.steampowered.com/app/306130/?snr...</td>\n",
       "      <td>71.0</td>\n",
       "      <td>Massively Multiplayer, RPG</td>\n",
       "      <td>0.0</td>\n",
       "      <td>1000781.0</td>\n",
       "      <td>PC</td>\n",
       "      <td>...</td>\n",
       "      <td>$19.99</td>\n",
       "      <td>NaN</td>\n",
       "      <td>singleplayer, multiplayer, coop</td>\n",
       "      <td>1.0</td>\n",
       "      <td>English, French, German, Russian</td>\n",
       "      <td>NaN</td>\n",
       "      <td>0.0</td>\n",
       "      <td>NaN</td>\n",
       "      <td>Includes The Elder Scrolls Online base game an...</td>\n",
       "      <td>RPG, MMORPG, Open World, Massively Multiplayer...</td>\n",
       "    </tr>\n",
       "    <tr>\n",
       "      <th>4</th>\n",
       "      <td>4</td>\n",
       "      <td>5</td>\n",
       "      <td>Sea of Thieves</td>\n",
       "      <td>50781.0</td>\n",
       "      <td>https://store.steampowered.com/app/1172620/?sn...</td>\n",
       "      <td>68.0</td>\n",
       "      <td>Action, Adventure</td>\n",
       "      <td>0.0</td>\n",
       "      <td>777456.0</td>\n",
       "      <td>PC, Xbox One</td>\n",
       "      <td>...</td>\n",
       "      <td>$39.99</td>\n",
       "      <td>NaN</td>\n",
       "      <td>multiplayer, pvp, coop, online coop</td>\n",
       "      <td>1.0</td>\n",
       "      <td>English, French, Italian, German, Russian</td>\n",
       "      <td>Teen</td>\n",
       "      <td>308.0</td>\n",
       "      <td>NaN</td>\n",
       "      <td>Sea of Thieves is a cooperative multiplayer ac...</td>\n",
       "      <td>Adventure, Action, Pirates, Open World, Multip...</td>\n",
       "    </tr>\n",
       "  </tbody>\n",
       "</table>\n",
       "<p>5 rows × 27 columns</p>\n",
       "</div>"
      ],
      "text/plain": [
       "   Unnamed: 0  id                              Name   RawgID  \\\n",
       "0           0   1  Counter-Strike: Global Offensive   4291.0   \n",
       "1           1   2                         Destiny 2     32.0   \n",
       "2           2   3                            Dota 2  10213.0   \n",
       "3           3   4          The Elder Scrolls Online  41458.0   \n",
       "4           4   5                    Sea of Thieves  50781.0   \n",
       "\n",
       "                                            SteamURL  Metacritic  \\\n",
       "0  https://store.steampowered.com/app/730/?snr=1_...        83.0   \n",
       "1  https://store.steampowered.com/app/1085660/?sn...        82.0   \n",
       "2  https://store.steampowered.com/app/570/?snr=1_...        90.0   \n",
       "3  https://store.steampowered.com/app/306130/?snr...        71.0   \n",
       "4  https://store.steampowered.com/app/1172620/?sn...        68.0   \n",
       "\n",
       "                            Genres  Indie   Presence  \\\n",
       "0             Action, Free to Play    0.0  1009588.0   \n",
       "1  Action, Adventure, Free to Play    0.0  1007425.0   \n",
       "2                              NaN    0.0  1009306.0   \n",
       "3       Massively Multiplayer, RPG    0.0  1000781.0   \n",
       "4                Action, Adventure    0.0   777456.0   \n",
       "\n",
       "                                            Platform  ...  OriginalCost  \\\n",
       "0                        PC, Xbox 360, PlayStation 3  ...  Free to Play   \n",
       "1  PlayStation 5, Web, Xbox Series X, PC, Xbox On...  ...  Free To Play   \n",
       "2                                   Linux, macOS, PC  ...  Free to Play   \n",
       "3                                                 PC  ...        $19.99   \n",
       "4                                       PC, Xbox One  ...        $39.99   \n",
       "\n",
       "  DiscountedCost                              Players Controller  \\\n",
       "0            NaN  multiplayer, pvp, coop, online coop        1.0   \n",
       "1            NaN       multiplayer, coop, online coop        1.0   \n",
       "2            NaN  multiplayer, pvp, coop, online coop        1.0   \n",
       "3            NaN      singleplayer, multiplayer, coop        1.0   \n",
       "4            NaN  multiplayer, pvp, coop, online coop        1.0   \n",
       "\n",
       "                                           Languages    ESRB Achievements  \\\n",
       "0  English, Czech, Danish, Dutch, Finnish, French...  Mature        179.0   \n",
       "1  English, French, Italian, German, Japanese, Ko...    Teen         61.0   \n",
       "2  English, Bulgarian, Czech, Danish, Dutch, Finn...     NaN          0.0   \n",
       "3                   English, French, German, Russian     NaN          0.0   \n",
       "4          English, French, Italian, German, Russian    Teen        308.0   \n",
       "\n",
       "  Publisher                                        Description  \\\n",
       "0       NaN  Counter-Strike is a multiplayer phenomenon in ...   \n",
       "1       NaN  Destiny 2 is an online multiplayer first-perso...   \n",
       "2       NaN  What used to be an unofficial modded map for t...   \n",
       "3       NaN  Includes The Elder Scrolls Online base game an...   \n",
       "4       NaN  Sea of Thieves is a cooperative multiplayer ac...   \n",
       "\n",
       "                                                Tags  \n",
       "0  FPS, Shooter, Multiplayer, Competitive, Action...  \n",
       "1  Free to Play, Looter Shooter, FPS, Multiplayer...  \n",
       "2  Free to Play, MOBA, Multiplayer, Strategy, eSp...  \n",
       "3  RPG, MMORPG, Open World, Massively Multiplayer...  \n",
       "4  Adventure, Action, Pirates, Open World, Multip...  \n",
       "\n",
       "[5 rows x 27 columns]"
      ]
     },
     "execution_count": 6,
     "metadata": {},
     "output_type": "execute_result"
    }
   ],
   "source": [
    "# Первые 5 строк датасета\n",
    "data.head()"
   ]
  },
  {
   "cell_type": "code",
   "execution_count": 7,
   "metadata": {},
   "outputs": [
    {
     "name": "stdout",
     "output_type": "stream",
     "text": [
      "Всего строк: 30250\n"
     ]
    }
   ],
   "source": [
    "total_count = data.shape[0]\n",
    "print('Всего строк: {}'.format(total_count))"
   ]
  },
  {
   "cell_type": "markdown",
   "metadata": {},
   "source": [
    "# Обработка пропусков в данных"
   ]
  },
  {
   "cell_type": "markdown",
   "metadata": {},
   "source": [
    "## Простые стратегии - удаление или заполнение нулями\n"
   ]
  },
  {
   "cell_type": "code",
   "execution_count": 8,
   "metadata": {},
   "outputs": [
    {
     "data": {
      "text/plain": [
       "((30250, 27), (30250, 2))"
      ]
     },
     "execution_count": 8,
     "metadata": {},
     "output_type": "execute_result"
    }
   ],
   "source": [
    "# Удаление колонок, содержащих пустые значения\n",
    "data_new_1 = data.dropna(axis=1, how='any')\n",
    "(data.shape, data_new_1.shape)"
   ]
  },
  {
   "cell_type": "markdown",
   "metadata": {},
   "source": [
    "Удаление колонок, содержащих пустые значения приведет к сокращению колонок с 27 до 2"
   ]
  },
  {
   "cell_type": "code",
   "execution_count": 9,
   "metadata": {},
   "outputs": [
    {
     "data": {
      "text/plain": [
       "((30250, 27), (0, 27))"
      ]
     },
     "execution_count": 9,
     "metadata": {},
     "output_type": "execute_result"
    }
   ],
   "source": [
    "# Удаление строк, содержащих пустые значения\n",
    "data_new_2 = data.dropna(axis=0, how='any')\n",
    "(data.shape, data_new_2.shape)"
   ]
  },
  {
   "cell_type": "markdown",
   "metadata": {},
   "source": [
    "Удаление строк, содержащих пустые значения приведет к сокращению строк с 30250 до 0"
   ]
  },
  {
   "cell_type": "code",
   "execution_count": 10,
   "metadata": {
    "scrolled": false
   },
   "outputs": [
    {
     "data": {
      "text/plain": [
       "(30250, 25)"
      ]
     },
     "execution_count": 10,
     "metadata": {},
     "output_type": "execute_result"
    }
   ],
   "source": [
    "# Удаление колонки Publisher и Unnamed: 0 из-за неиспользования  в данной работе связей с другими датасетами\n",
    "data = data.drop('Publisher', 1)\n",
    "data = data.drop('Unnamed: 0', 1)\n",
    "data.shape"
   ]
  },
  {
   "cell_type": "code",
   "execution_count": 11,
   "metadata": {},
   "outputs": [
    {
     "data": {
      "text/plain": [
       "(30156, 25)"
      ]
     },
     "execution_count": 11,
     "metadata": {},
     "output_type": "execute_result"
    }
   ],
   "source": [
    "# Удаление строк, имеющих пустые значения в колонке Name\n",
    "data = data.dropna(axis=0, subset=['Name'])\n",
    "data.shape"
   ]
  },
  {
   "cell_type": "code",
   "execution_count": 12,
   "metadata": {},
   "outputs": [
    {
     "data": {
      "text/html": [
       "<div>\n",
       "<style scoped>\n",
       "    .dataframe tbody tr th:only-of-type {\n",
       "        vertical-align: middle;\n",
       "    }\n",
       "\n",
       "    .dataframe tbody tr th {\n",
       "        vertical-align: top;\n",
       "    }\n",
       "\n",
       "    .dataframe thead th {\n",
       "        text-align: right;\n",
       "    }\n",
       "</style>\n",
       "<table border=\"1\" class=\"dataframe\">\n",
       "  <thead>\n",
       "    <tr style=\"text-align: right;\">\n",
       "      <th></th>\n",
       "      <th>id</th>\n",
       "      <th>Name</th>\n",
       "      <th>RawgID</th>\n",
       "      <th>SteamURL</th>\n",
       "      <th>Metacritic</th>\n",
       "      <th>Genres</th>\n",
       "      <th>Indie</th>\n",
       "      <th>Presence</th>\n",
       "      <th>Platform</th>\n",
       "      <th>Graphics</th>\n",
       "      <th>...</th>\n",
       "      <th>Franchise</th>\n",
       "      <th>OriginalCost</th>\n",
       "      <th>DiscountedCost</th>\n",
       "      <th>Players</th>\n",
       "      <th>Controller</th>\n",
       "      <th>Languages</th>\n",
       "      <th>ESRB</th>\n",
       "      <th>Achievements</th>\n",
       "      <th>Description</th>\n",
       "      <th>Tags</th>\n",
       "    </tr>\n",
       "  </thead>\n",
       "  <tbody>\n",
       "    <tr>\n",
       "      <th>0</th>\n",
       "      <td>1</td>\n",
       "      <td>Counter-Strike: Global Offensive</td>\n",
       "      <td>4291.0</td>\n",
       "      <td>https://store.steampowered.com/app/730/?snr=1_...</td>\n",
       "      <td>83.0</td>\n",
       "      <td>Action, Free to Play</td>\n",
       "      <td>0.0</td>\n",
       "      <td>1009588.0</td>\n",
       "      <td>PC, Xbox 360, PlayStation 3</td>\n",
       "      <td>Video card must be 256 MB or more and should b...</td>\n",
       "      <td>...</td>\n",
       "      <td>NaN</td>\n",
       "      <td>Free to Play</td>\n",
       "      <td>NaN</td>\n",
       "      <td>multiplayer, pvp, coop, online coop</td>\n",
       "      <td>1.0</td>\n",
       "      <td>English, Czech, Danish, Dutch, Finnish, French...</td>\n",
       "      <td>Mature</td>\n",
       "      <td>179.0</td>\n",
       "      <td>Counter-Strike is a multiplayer phenomenon in ...</td>\n",
       "      <td>FPS, Shooter, Multiplayer, Competitive, Action...</td>\n",
       "    </tr>\n",
       "    <tr>\n",
       "      <th>1</th>\n",
       "      <td>2</td>\n",
       "      <td>Destiny 2</td>\n",
       "      <td>32.0</td>\n",
       "      <td>https://store.steampowered.com/app/1085660/?sn...</td>\n",
       "      <td>82.0</td>\n",
       "      <td>Action, Adventure, Free to Play</td>\n",
       "      <td>0.0</td>\n",
       "      <td>1007425.0</td>\n",
       "      <td>PlayStation 5, Web, Xbox Series X, PC, Xbox On...</td>\n",
       "      <td>NVIDIA® GeForce® GTX 660 2GB or GTX 1050 2GB /...</td>\n",
       "      <td>...</td>\n",
       "      <td>Destiny</td>\n",
       "      <td>Free To Play</td>\n",
       "      <td>NaN</td>\n",
       "      <td>multiplayer, coop, online coop</td>\n",
       "      <td>1.0</td>\n",
       "      <td>English, French, Italian, German, Japanese, Ko...</td>\n",
       "      <td>Teen</td>\n",
       "      <td>61.0</td>\n",
       "      <td>Destiny 2 is an online multiplayer first-perso...</td>\n",
       "      <td>Free to Play, Looter Shooter, FPS, Multiplayer...</td>\n",
       "    </tr>\n",
       "    <tr>\n",
       "      <th>2</th>\n",
       "      <td>3</td>\n",
       "      <td>Dota 2</td>\n",
       "      <td>10213.0</td>\n",
       "      <td>https://store.steampowered.com/app/570/?snr=1_...</td>\n",
       "      <td>90.0</td>\n",
       "      <td>NaN</td>\n",
       "      <td>0.0</td>\n",
       "      <td>1009306.0</td>\n",
       "      <td>Linux, macOS, PC</td>\n",
       "      <td>nVidia GeForce 8600/9600GT</td>\n",
       "      <td>...</td>\n",
       "      <td>NaN</td>\n",
       "      <td>Free to Play</td>\n",
       "      <td>NaN</td>\n",
       "      <td>multiplayer, pvp, coop, online coop</td>\n",
       "      <td>1.0</td>\n",
       "      <td>English, Bulgarian, Czech, Danish, Dutch, Finn...</td>\n",
       "      <td>NaN</td>\n",
       "      <td>0.0</td>\n",
       "      <td>What used to be an unofficial modded map for t...</td>\n",
       "      <td>Free to Play, MOBA, Multiplayer, Strategy, eSp...</td>\n",
       "    </tr>\n",
       "    <tr>\n",
       "      <th>3</th>\n",
       "      <td>4</td>\n",
       "      <td>The Elder Scrolls Online</td>\n",
       "      <td>41458.0</td>\n",
       "      <td>https://store.steampowered.com/app/306130/?snr...</td>\n",
       "      <td>71.0</td>\n",
       "      <td>Massively Multiplayer, RPG</td>\n",
       "      <td>0.0</td>\n",
       "      <td>1000781.0</td>\n",
       "      <td>PC</td>\n",
       "      <td>Direct X 11.0 compliant video card with 1GB RA...</td>\n",
       "      <td>...</td>\n",
       "      <td>The Elder Scrolls, Skyrim</td>\n",
       "      <td>$19.99</td>\n",
       "      <td>NaN</td>\n",
       "      <td>singleplayer, multiplayer, coop</td>\n",
       "      <td>1.0</td>\n",
       "      <td>English, French, German, Russian</td>\n",
       "      <td>NaN</td>\n",
       "      <td>0.0</td>\n",
       "      <td>Includes The Elder Scrolls Online base game an...</td>\n",
       "      <td>RPG, MMORPG, Open World, Massively Multiplayer...</td>\n",
       "    </tr>\n",
       "    <tr>\n",
       "      <th>4</th>\n",
       "      <td>5</td>\n",
       "      <td>Sea of Thieves</td>\n",
       "      <td>50781.0</td>\n",
       "      <td>https://store.steampowered.com/app/1172620/?sn...</td>\n",
       "      <td>68.0</td>\n",
       "      <td>Action, Adventure</td>\n",
       "      <td>0.0</td>\n",
       "      <td>777456.0</td>\n",
       "      <td>PC, Xbox One</td>\n",
       "      <td>Nvidia GeForce GTX 650 or AMD Radeon 7750</td>\n",
       "      <td>...</td>\n",
       "      <td>NaN</td>\n",
       "      <td>$39.99</td>\n",
       "      <td>NaN</td>\n",
       "      <td>multiplayer, pvp, coop, online coop</td>\n",
       "      <td>1.0</td>\n",
       "      <td>English, French, Italian, German, Russian</td>\n",
       "      <td>Teen</td>\n",
       "      <td>308.0</td>\n",
       "      <td>Sea of Thieves is a cooperative multiplayer ac...</td>\n",
       "      <td>Adventure, Action, Pirates, Open World, Multip...</td>\n",
       "    </tr>\n",
       "  </tbody>\n",
       "</table>\n",
       "<p>5 rows × 25 columns</p>\n",
       "</div>"
      ],
      "text/plain": [
       "   id                              Name   RawgID  \\\n",
       "0   1  Counter-Strike: Global Offensive   4291.0   \n",
       "1   2                         Destiny 2     32.0   \n",
       "2   3                            Dota 2  10213.0   \n",
       "3   4          The Elder Scrolls Online  41458.0   \n",
       "4   5                    Sea of Thieves  50781.0   \n",
       "\n",
       "                                            SteamURL  Metacritic  \\\n",
       "0  https://store.steampowered.com/app/730/?snr=1_...        83.0   \n",
       "1  https://store.steampowered.com/app/1085660/?sn...        82.0   \n",
       "2  https://store.steampowered.com/app/570/?snr=1_...        90.0   \n",
       "3  https://store.steampowered.com/app/306130/?snr...        71.0   \n",
       "4  https://store.steampowered.com/app/1172620/?sn...        68.0   \n",
       "\n",
       "                            Genres  Indie   Presence  \\\n",
       "0             Action, Free to Play    0.0  1009588.0   \n",
       "1  Action, Adventure, Free to Play    0.0  1007425.0   \n",
       "2                              NaN    0.0  1009306.0   \n",
       "3       Massively Multiplayer, RPG    0.0  1000781.0   \n",
       "4                Action, Adventure    0.0   777456.0   \n",
       "\n",
       "                                            Platform  \\\n",
       "0                        PC, Xbox 360, PlayStation 3   \n",
       "1  PlayStation 5, Web, Xbox Series X, PC, Xbox On...   \n",
       "2                                   Linux, macOS, PC   \n",
       "3                                                 PC   \n",
       "4                                       PC, Xbox One   \n",
       "\n",
       "                                            Graphics  ...  \\\n",
       "0  Video card must be 256 MB or more and should b...  ...   \n",
       "1  NVIDIA® GeForce® GTX 660 2GB or GTX 1050 2GB /...  ...   \n",
       "2                         nVidia GeForce 8600/9600GT  ...   \n",
       "3  Direct X 11.0 compliant video card with 1GB RA...  ...   \n",
       "4          Nvidia GeForce GTX 650 or AMD Radeon 7750  ...   \n",
       "\n",
       "                   Franchise  OriginalCost DiscountedCost  \\\n",
       "0                        NaN  Free to Play            NaN   \n",
       "1                    Destiny  Free To Play            NaN   \n",
       "2                        NaN  Free to Play            NaN   \n",
       "3  The Elder Scrolls, Skyrim        $19.99            NaN   \n",
       "4                        NaN        $39.99            NaN   \n",
       "\n",
       "                               Players  Controller  \\\n",
       "0  multiplayer, pvp, coop, online coop         1.0   \n",
       "1       multiplayer, coop, online coop         1.0   \n",
       "2  multiplayer, pvp, coop, online coop         1.0   \n",
       "3      singleplayer, multiplayer, coop         1.0   \n",
       "4  multiplayer, pvp, coop, online coop         1.0   \n",
       "\n",
       "                                           Languages    ESRB Achievements  \\\n",
       "0  English, Czech, Danish, Dutch, Finnish, French...  Mature        179.0   \n",
       "1  English, French, Italian, German, Japanese, Ko...    Teen         61.0   \n",
       "2  English, Bulgarian, Czech, Danish, Dutch, Finn...     NaN          0.0   \n",
       "3                   English, French, German, Russian     NaN          0.0   \n",
       "4          English, French, Italian, German, Russian    Teen        308.0   \n",
       "\n",
       "                                         Description  \\\n",
       "0  Counter-Strike is a multiplayer phenomenon in ...   \n",
       "1  Destiny 2 is an online multiplayer first-perso...   \n",
       "2  What used to be an unofficial modded map for t...   \n",
       "3  Includes The Elder Scrolls Online base game an...   \n",
       "4  Sea of Thieves is a cooperative multiplayer ac...   \n",
       "\n",
       "                                                Tags  \n",
       "0  FPS, Shooter, Multiplayer, Competitive, Action...  \n",
       "1  Free to Play, Looter Shooter, FPS, Multiplayer...  \n",
       "2  Free to Play, MOBA, Multiplayer, Strategy, eSp...  \n",
       "3  RPG, MMORPG, Open World, Massively Multiplayer...  \n",
       "4  Adventure, Action, Pirates, Open World, Multip...  \n",
       "\n",
       "[5 rows x 25 columns]"
      ]
     },
     "execution_count": 12,
     "metadata": {},
     "output_type": "execute_result"
    }
   ],
   "source": [
    "data.head()"
   ]
  },
  {
   "cell_type": "code",
   "execution_count": 13,
   "metadata": {},
   "outputs": [
    {
     "data": {
      "text/html": [
       "<div>\n",
       "<style scoped>\n",
       "    .dataframe tbody tr th:only-of-type {\n",
       "        vertical-align: middle;\n",
       "    }\n",
       "\n",
       "    .dataframe tbody tr th {\n",
       "        vertical-align: top;\n",
       "    }\n",
       "\n",
       "    .dataframe thead th {\n",
       "        text-align: right;\n",
       "    }\n",
       "</style>\n",
       "<table border=\"1\" class=\"dataframe\">\n",
       "  <thead>\n",
       "    <tr style=\"text-align: right;\">\n",
       "      <th></th>\n",
       "      <th>id</th>\n",
       "      <th>Name</th>\n",
       "      <th>RawgID</th>\n",
       "      <th>SteamURL</th>\n",
       "      <th>Metacritic</th>\n",
       "      <th>Genres</th>\n",
       "      <th>Indie</th>\n",
       "      <th>Presence</th>\n",
       "      <th>Platform</th>\n",
       "      <th>Graphics</th>\n",
       "      <th>...</th>\n",
       "      <th>Franchise</th>\n",
       "      <th>OriginalCost</th>\n",
       "      <th>DiscountedCost</th>\n",
       "      <th>Players</th>\n",
       "      <th>Controller</th>\n",
       "      <th>Languages</th>\n",
       "      <th>ESRB</th>\n",
       "      <th>Achievements</th>\n",
       "      <th>Description</th>\n",
       "      <th>Tags</th>\n",
       "    </tr>\n",
       "  </thead>\n",
       "  <tbody>\n",
       "    <tr>\n",
       "      <th>0</th>\n",
       "      <td>1</td>\n",
       "      <td>Counter-Strike: Global Offensive</td>\n",
       "      <td>4291.0</td>\n",
       "      <td>https://store.steampowered.com/app/730/?snr=1_...</td>\n",
       "      <td>83.0</td>\n",
       "      <td>Action, Free to Play</td>\n",
       "      <td>0.0</td>\n",
       "      <td>1009588.0</td>\n",
       "      <td>PC, Xbox 360, PlayStation 3</td>\n",
       "      <td>Video card must be 256 MB or more and should b...</td>\n",
       "      <td>...</td>\n",
       "      <td>0</td>\n",
       "      <td>Free to Play</td>\n",
       "      <td>0</td>\n",
       "      <td>multiplayer, pvp, coop, online coop</td>\n",
       "      <td>1.0</td>\n",
       "      <td>English, Czech, Danish, Dutch, Finnish, French...</td>\n",
       "      <td>Mature</td>\n",
       "      <td>179.0</td>\n",
       "      <td>Counter-Strike is a multiplayer phenomenon in ...</td>\n",
       "      <td>FPS, Shooter, Multiplayer, Competitive, Action...</td>\n",
       "    </tr>\n",
       "    <tr>\n",
       "      <th>1</th>\n",
       "      <td>2</td>\n",
       "      <td>Destiny 2</td>\n",
       "      <td>32.0</td>\n",
       "      <td>https://store.steampowered.com/app/1085660/?sn...</td>\n",
       "      <td>82.0</td>\n",
       "      <td>Action, Adventure, Free to Play</td>\n",
       "      <td>0.0</td>\n",
       "      <td>1007425.0</td>\n",
       "      <td>PlayStation 5, Web, Xbox Series X, PC, Xbox On...</td>\n",
       "      <td>NVIDIA® GeForce® GTX 660 2GB or GTX 1050 2GB /...</td>\n",
       "      <td>...</td>\n",
       "      <td>Destiny</td>\n",
       "      <td>Free To Play</td>\n",
       "      <td>0</td>\n",
       "      <td>multiplayer, coop, online coop</td>\n",
       "      <td>1.0</td>\n",
       "      <td>English, French, Italian, German, Japanese, Ko...</td>\n",
       "      <td>Teen</td>\n",
       "      <td>61.0</td>\n",
       "      <td>Destiny 2 is an online multiplayer first-perso...</td>\n",
       "      <td>Free to Play, Looter Shooter, FPS, Multiplayer...</td>\n",
       "    </tr>\n",
       "    <tr>\n",
       "      <th>2</th>\n",
       "      <td>3</td>\n",
       "      <td>Dota 2</td>\n",
       "      <td>10213.0</td>\n",
       "      <td>https://store.steampowered.com/app/570/?snr=1_...</td>\n",
       "      <td>90.0</td>\n",
       "      <td>0</td>\n",
       "      <td>0.0</td>\n",
       "      <td>1009306.0</td>\n",
       "      <td>Linux, macOS, PC</td>\n",
       "      <td>nVidia GeForce 8600/9600GT</td>\n",
       "      <td>...</td>\n",
       "      <td>0</td>\n",
       "      <td>Free to Play</td>\n",
       "      <td>0</td>\n",
       "      <td>multiplayer, pvp, coop, online coop</td>\n",
       "      <td>1.0</td>\n",
       "      <td>English, Bulgarian, Czech, Danish, Dutch, Finn...</td>\n",
       "      <td>0</td>\n",
       "      <td>0.0</td>\n",
       "      <td>What used to be an unofficial modded map for t...</td>\n",
       "      <td>Free to Play, MOBA, Multiplayer, Strategy, eSp...</td>\n",
       "    </tr>\n",
       "    <tr>\n",
       "      <th>3</th>\n",
       "      <td>4</td>\n",
       "      <td>The Elder Scrolls Online</td>\n",
       "      <td>41458.0</td>\n",
       "      <td>https://store.steampowered.com/app/306130/?snr...</td>\n",
       "      <td>71.0</td>\n",
       "      <td>Massively Multiplayer, RPG</td>\n",
       "      <td>0.0</td>\n",
       "      <td>1000781.0</td>\n",
       "      <td>PC</td>\n",
       "      <td>Direct X 11.0 compliant video card with 1GB RA...</td>\n",
       "      <td>...</td>\n",
       "      <td>The Elder Scrolls, Skyrim</td>\n",
       "      <td>$19.99</td>\n",
       "      <td>0</td>\n",
       "      <td>singleplayer, multiplayer, coop</td>\n",
       "      <td>1.0</td>\n",
       "      <td>English, French, German, Russian</td>\n",
       "      <td>0</td>\n",
       "      <td>0.0</td>\n",
       "      <td>Includes The Elder Scrolls Online base game an...</td>\n",
       "      <td>RPG, MMORPG, Open World, Massively Multiplayer...</td>\n",
       "    </tr>\n",
       "    <tr>\n",
       "      <th>4</th>\n",
       "      <td>5</td>\n",
       "      <td>Sea of Thieves</td>\n",
       "      <td>50781.0</td>\n",
       "      <td>https://store.steampowered.com/app/1172620/?sn...</td>\n",
       "      <td>68.0</td>\n",
       "      <td>Action, Adventure</td>\n",
       "      <td>0.0</td>\n",
       "      <td>777456.0</td>\n",
       "      <td>PC, Xbox One</td>\n",
       "      <td>Nvidia GeForce GTX 650 or AMD Radeon 7750</td>\n",
       "      <td>...</td>\n",
       "      <td>0</td>\n",
       "      <td>$39.99</td>\n",
       "      <td>0</td>\n",
       "      <td>multiplayer, pvp, coop, online coop</td>\n",
       "      <td>1.0</td>\n",
       "      <td>English, French, Italian, German, Russian</td>\n",
       "      <td>Teen</td>\n",
       "      <td>308.0</td>\n",
       "      <td>Sea of Thieves is a cooperative multiplayer ac...</td>\n",
       "      <td>Adventure, Action, Pirates, Open World, Multip...</td>\n",
       "    </tr>\n",
       "  </tbody>\n",
       "</table>\n",
       "<p>5 rows × 25 columns</p>\n",
       "</div>"
      ],
      "text/plain": [
       "   id                              Name   RawgID  \\\n",
       "0   1  Counter-Strike: Global Offensive   4291.0   \n",
       "1   2                         Destiny 2     32.0   \n",
       "2   3                            Dota 2  10213.0   \n",
       "3   4          The Elder Scrolls Online  41458.0   \n",
       "4   5                    Sea of Thieves  50781.0   \n",
       "\n",
       "                                            SteamURL  Metacritic  \\\n",
       "0  https://store.steampowered.com/app/730/?snr=1_...        83.0   \n",
       "1  https://store.steampowered.com/app/1085660/?sn...        82.0   \n",
       "2  https://store.steampowered.com/app/570/?snr=1_...        90.0   \n",
       "3  https://store.steampowered.com/app/306130/?snr...        71.0   \n",
       "4  https://store.steampowered.com/app/1172620/?sn...        68.0   \n",
       "\n",
       "                            Genres  Indie   Presence  \\\n",
       "0             Action, Free to Play    0.0  1009588.0   \n",
       "1  Action, Adventure, Free to Play    0.0  1007425.0   \n",
       "2                                0    0.0  1009306.0   \n",
       "3       Massively Multiplayer, RPG    0.0  1000781.0   \n",
       "4                Action, Adventure    0.0   777456.0   \n",
       "\n",
       "                                            Platform  \\\n",
       "0                        PC, Xbox 360, PlayStation 3   \n",
       "1  PlayStation 5, Web, Xbox Series X, PC, Xbox On...   \n",
       "2                                   Linux, macOS, PC   \n",
       "3                                                 PC   \n",
       "4                                       PC, Xbox One   \n",
       "\n",
       "                                            Graphics  ...  \\\n",
       "0  Video card must be 256 MB or more and should b...  ...   \n",
       "1  NVIDIA® GeForce® GTX 660 2GB or GTX 1050 2GB /...  ...   \n",
       "2                         nVidia GeForce 8600/9600GT  ...   \n",
       "3  Direct X 11.0 compliant video card with 1GB RA...  ...   \n",
       "4          Nvidia GeForce GTX 650 or AMD Radeon 7750  ...   \n",
       "\n",
       "                   Franchise  OriginalCost DiscountedCost  \\\n",
       "0                          0  Free to Play              0   \n",
       "1                    Destiny  Free To Play              0   \n",
       "2                          0  Free to Play              0   \n",
       "3  The Elder Scrolls, Skyrim        $19.99              0   \n",
       "4                          0        $39.99              0   \n",
       "\n",
       "                               Players  Controller  \\\n",
       "0  multiplayer, pvp, coop, online coop         1.0   \n",
       "1       multiplayer, coop, online coop         1.0   \n",
       "2  multiplayer, pvp, coop, online coop         1.0   \n",
       "3      singleplayer, multiplayer, coop         1.0   \n",
       "4  multiplayer, pvp, coop, online coop         1.0   \n",
       "\n",
       "                                           Languages    ESRB Achievements  \\\n",
       "0  English, Czech, Danish, Dutch, Finnish, French...  Mature        179.0   \n",
       "1  English, French, Italian, German, Japanese, Ko...    Teen         61.0   \n",
       "2  English, Bulgarian, Czech, Danish, Dutch, Finn...       0          0.0   \n",
       "3                   English, French, German, Russian       0          0.0   \n",
       "4          English, French, Italian, German, Russian    Teen        308.0   \n",
       "\n",
       "                                         Description  \\\n",
       "0  Counter-Strike is a multiplayer phenomenon in ...   \n",
       "1  Destiny 2 is an online multiplayer first-perso...   \n",
       "2  What used to be an unofficial modded map for t...   \n",
       "3  Includes The Elder Scrolls Online base game an...   \n",
       "4  Sea of Thieves is a cooperative multiplayer ac...   \n",
       "\n",
       "                                                Tags  \n",
       "0  FPS, Shooter, Multiplayer, Competitive, Action...  \n",
       "1  Free to Play, Looter Shooter, FPS, Multiplayer...  \n",
       "2  Free to Play, MOBA, Multiplayer, Strategy, eSp...  \n",
       "3  RPG, MMORPG, Open World, Massively Multiplayer...  \n",
       "4  Adventure, Action, Pirates, Open World, Multip...  \n",
       "\n",
       "[5 rows x 25 columns]"
      ]
     },
     "execution_count": 13,
     "metadata": {},
     "output_type": "execute_result"
    }
   ],
   "source": [
    "# Заполнение всех пропущенных значений нулями\n",
    "# В данном случае это некорректно, так как нулями заполняются в том числе категориальные колонки\n",
    "data_new_3 = data.fillna(0)\n",
    "data_new_3.head()"
   ]
  },
  {
   "cell_type": "markdown",
   "metadata": {},
   "source": [
    "## \"Внедрение значений\" - импьютация (imputation)"
   ]
  },
  {
   "cell_type": "markdown",
   "metadata": {},
   "source": [
    "### Обработка пропусков в числовых данных"
   ]
  },
  {
   "cell_type": "code",
   "execution_count": 14,
   "metadata": {},
   "outputs": [
    {
     "name": "stdout",
     "output_type": "stream",
     "text": [
      "Колонка Metacritic. Тип данных float64. Количество пустых значений 26800, 88.6%.\n",
      "Колонка Indie. Тип данных float64. Количество пустых значений 205, 0.68%.\n",
      "Колонка Soundtrack. Тип данных float64. Количество пустых значений 205, 0.68%.\n",
      "Колонка Controller. Тип данных float64. Количество пустых значений 274, 0.91%.\n"
     ]
    }
   ],
   "source": [
    "# Выберем числовые колонки с пропущенными значениями\n",
    "# Цикл по колонкам датасета\n",
    "num_cols = []\n",
    "for col in data.columns:\n",
    "    # Количество пустых значений \n",
    "    temp_null_count = data[data[col].isnull()].shape[0]\n",
    "    dt = str(data[col].dtype)\n",
    "    if temp_null_count>0 and (dt=='float64' or dt=='int64'):\n",
    "        num_cols.append(col)\n",
    "        temp_perc = round((temp_null_count / total_count) * 100.0, 2)\n",
    "        print('Колонка {}. Тип данных {}. Количество пустых значений {}, {}%.'.format(col, dt, temp_null_count, temp_perc))"
   ]
  },
  {
   "cell_type": "code",
   "execution_count": 15,
   "metadata": {},
   "outputs": [
    {
     "data": {
      "text/html": [
       "<div>\n",
       "<style scoped>\n",
       "    .dataframe tbody tr th:only-of-type {\n",
       "        vertical-align: middle;\n",
       "    }\n",
       "\n",
       "    .dataframe tbody tr th {\n",
       "        vertical-align: top;\n",
       "    }\n",
       "\n",
       "    .dataframe thead th {\n",
       "        text-align: right;\n",
       "    }\n",
       "</style>\n",
       "<table border=\"1\" class=\"dataframe\">\n",
       "  <thead>\n",
       "    <tr style=\"text-align: right;\">\n",
       "      <th></th>\n",
       "      <th>Metacritic</th>\n",
       "      <th>Indie</th>\n",
       "      <th>Soundtrack</th>\n",
       "      <th>Controller</th>\n",
       "    </tr>\n",
       "  </thead>\n",
       "  <tbody>\n",
       "    <tr>\n",
       "      <th>0</th>\n",
       "      <td>83.0</td>\n",
       "      <td>0.0</td>\n",
       "      <td>0.0</td>\n",
       "      <td>1.0</td>\n",
       "    </tr>\n",
       "    <tr>\n",
       "      <th>1</th>\n",
       "      <td>82.0</td>\n",
       "      <td>0.0</td>\n",
       "      <td>0.0</td>\n",
       "      <td>1.0</td>\n",
       "    </tr>\n",
       "    <tr>\n",
       "      <th>2</th>\n",
       "      <td>90.0</td>\n",
       "      <td>0.0</td>\n",
       "      <td>0.0</td>\n",
       "      <td>1.0</td>\n",
       "    </tr>\n",
       "    <tr>\n",
       "      <th>3</th>\n",
       "      <td>71.0</td>\n",
       "      <td>0.0</td>\n",
       "      <td>0.0</td>\n",
       "      <td>1.0</td>\n",
       "    </tr>\n",
       "    <tr>\n",
       "      <th>4</th>\n",
       "      <td>68.0</td>\n",
       "      <td>0.0</td>\n",
       "      <td>0.0</td>\n",
       "      <td>1.0</td>\n",
       "    </tr>\n",
       "    <tr>\n",
       "      <th>...</th>\n",
       "      <td>...</td>\n",
       "      <td>...</td>\n",
       "      <td>...</td>\n",
       "      <td>...</td>\n",
       "    </tr>\n",
       "    <tr>\n",
       "      <th>30245</th>\n",
       "      <td>NaN</td>\n",
       "      <td>1.0</td>\n",
       "      <td>0.0</td>\n",
       "      <td>1.0</td>\n",
       "    </tr>\n",
       "    <tr>\n",
       "      <th>30246</th>\n",
       "      <td>NaN</td>\n",
       "      <td>1.0</td>\n",
       "      <td>0.0</td>\n",
       "      <td>0.0</td>\n",
       "    </tr>\n",
       "    <tr>\n",
       "      <th>30247</th>\n",
       "      <td>NaN</td>\n",
       "      <td>0.0</td>\n",
       "      <td>0.0</td>\n",
       "      <td>0.0</td>\n",
       "    </tr>\n",
       "    <tr>\n",
       "      <th>30248</th>\n",
       "      <td>NaN</td>\n",
       "      <td>1.0</td>\n",
       "      <td>0.0</td>\n",
       "      <td>1.0</td>\n",
       "    </tr>\n",
       "    <tr>\n",
       "      <th>30249</th>\n",
       "      <td>NaN</td>\n",
       "      <td>0.0</td>\n",
       "      <td>0.0</td>\n",
       "      <td>1.0</td>\n",
       "    </tr>\n",
       "  </tbody>\n",
       "</table>\n",
       "<p>30156 rows × 4 columns</p>\n",
       "</div>"
      ],
      "text/plain": [
       "       Metacritic  Indie  Soundtrack  Controller\n",
       "0            83.0    0.0         0.0         1.0\n",
       "1            82.0    0.0         0.0         1.0\n",
       "2            90.0    0.0         0.0         1.0\n",
       "3            71.0    0.0         0.0         1.0\n",
       "4            68.0    0.0         0.0         1.0\n",
       "...           ...    ...         ...         ...\n",
       "30245         NaN    1.0         0.0         1.0\n",
       "30246         NaN    1.0         0.0         0.0\n",
       "30247         NaN    0.0         0.0         0.0\n",
       "30248         NaN    1.0         0.0         1.0\n",
       "30249         NaN    0.0         0.0         1.0\n",
       "\n",
       "[30156 rows x 4 columns]"
      ]
     },
     "execution_count": 15,
     "metadata": {},
     "output_type": "execute_result"
    }
   ],
   "source": [
    "# Фильтр по колонкам с пропущенными значениями\n",
    "data_num = data[num_cols]\n",
    "data_num"
   ]
  },
  {
   "cell_type": "code",
   "execution_count": 16,
   "metadata": {},
   "outputs": [
    {
     "data": {
      "text/plain": [
       "(array([ 0.,  1., nan]), array([ 1.,  0., nan]), array([ 0.,  1., nan]))"
      ]
     },
     "execution_count": 16,
     "metadata": {},
     "output_type": "execute_result"
    }
   ],
   "source": [
    "# Определим уникальные значения для полей\n",
    "(data['Soundtrack'].unique(),\n",
    " data['Controller'].unique(),\n",
    " data['Indie'].unique())"
   ]
  },
  {
   "cell_type": "code",
   "execution_count": 17,
   "metadata": {
    "scrolled": false
   },
   "outputs": [
    {
     "data": {
      "image/png": "[encoded data removed]",
      "text/plain": [
       "<Figure size 432x288 with 1 Axes>"
      ]
     },
     "metadata": {},
     "output_type": "display_data"
    },
    {
     "data": {
      "image/png": "[encoded data removed]",
      "text/plain": [
       "<Figure size 432x288 with 1 Axes>"
      ]
     },
     "metadata": {},
     "output_type": "display_data"
    },
    {
     "data": {
      "image/png": "[encoded data removed]",
      "text/plain": [
       "<Figure size 432x288 with 1 Axes>"
      ]
     },
     "metadata": {},
     "output_type": "display_data"
    },
    {
     "data": {
      "image/png": "[encoded data removed]",
      "text/plain": [
       "<Figure size 432x288 with 1 Axes>"
      ]
     },
     "metadata": {},
     "output_type": "display_data"
    }
   ],
   "source": [
    "# Гистограмма по признакам\n",
    "for col in data_num:\n",
    "    plt.hist(data[col], 50)\n",
    "    plt.xlabel(col)\n",
    "    plt.show()"
   ]
  },
  {
   "cell_type": "code",
   "execution_count": 18,
   "metadata": {},
   "outputs": [
    {
     "data": {
      "text/html": [
       "<div>\n",
       "<style scoped>\n",
       "    .dataframe tbody tr th:only-of-type {\n",
       "        vertical-align: middle;\n",
       "    }\n",
       "\n",
       "    .dataframe tbody tr th {\n",
       "        vertical-align: top;\n",
       "    }\n",
       "\n",
       "    .dataframe thead th {\n",
       "        text-align: right;\n",
       "    }\n",
       "</style>\n",
       "<table border=\"1\" class=\"dataframe\">\n",
       "  <thead>\n",
       "    <tr style=\"text-align: right;\">\n",
       "      <th></th>\n",
       "      <th>Metacritic</th>\n",
       "    </tr>\n",
       "  </thead>\n",
       "  <tbody>\n",
       "    <tr>\n",
       "      <th>0</th>\n",
       "      <td>83.0</td>\n",
       "    </tr>\n",
       "    <tr>\n",
       "      <th>1</th>\n",
       "      <td>82.0</td>\n",
       "    </tr>\n",
       "    <tr>\n",
       "      <th>2</th>\n",
       "      <td>90.0</td>\n",
       "    </tr>\n",
       "    <tr>\n",
       "      <th>3</th>\n",
       "      <td>71.0</td>\n",
       "    </tr>\n",
       "    <tr>\n",
       "      <th>4</th>\n",
       "      <td>68.0</td>\n",
       "    </tr>\n",
       "  </tbody>\n",
       "</table>\n",
       "</div>"
      ],
      "text/plain": [
       "   Metacritic\n",
       "0        83.0\n",
       "1        82.0\n",
       "2        90.0\n",
       "3        71.0\n",
       "4        68.0"
      ]
     },
     "execution_count": 18,
     "metadata": {},
     "output_type": "execute_result"
    }
   ],
   "source": [
    "data_num_Metacritic = data_num[['Metacritic']]\n",
    "data_num_Metacritic.head()"
   ]
  },
  {
   "cell_type": "code",
   "execution_count": 19,
   "metadata": {},
   "outputs": [],
   "source": [
    "from sklearn.impute import SimpleImputer\n",
    "from sklearn.impute import MissingIndicator"
   ]
  },
  {
   "cell_type": "code",
   "execution_count": 20,
   "metadata": {},
   "outputs": [
    {
     "data": {
      "text/plain": [
       "array([[False],\n",
       "       [False],\n",
       "       [False],\n",
       "       ...,\n",
       "       [ True],\n",
       "       [ True],\n",
       "       [ True]])"
      ]
     },
     "execution_count": 20,
     "metadata": {},
     "output_type": "execute_result"
    }
   ],
   "source": [
    "# Фильтр для проверки заполнения пустых значений\n",
    "indicator = MissingIndicator()\n",
    "mask_missing_values_only = indicator.fit_transform(data_num_Metacritic)\n",
    "mask_missing_values_only"
   ]
  },
  {
   "cell_type": "markdown",
   "metadata": {},
   "source": [
    "Попробуем заполнить пропущенные значения в колонке Metacritics значениями, вычисленными по среднему арифметическому, медиане и моде."
   ]
  },
  {
   "cell_type": "code",
   "execution_count": 21,
   "metadata": {},
   "outputs": [],
   "source": [
    "strategies=['mean', 'median', 'most_frequent']"
   ]
  },
  {
   "cell_type": "code",
   "execution_count": 22,
   "metadata": {},
   "outputs": [],
   "source": [
    "def test_num_impute(strategy_param):\n",
    "    imp_num = SimpleImputer(strategy=strategy_param)\n",
    "    data_num_imp = imp_num.fit_transform(data_num_Metacritic)\n",
    "    return data_num_imp[mask_missing_values_only]"
   ]
  },
  {
   "cell_type": "code",
   "execution_count": 23,
   "metadata": {},
   "outputs": [
    {
     "data": {
      "text/plain": [
       "('mean',\n",
       " array([72.92491061, 72.92491061, 72.92491061, ..., 72.92491061,\n",
       "        72.92491061, 72.92491061]))"
      ]
     },
     "execution_count": 23,
     "metadata": {},
     "output_type": "execute_result"
    }
   ],
   "source": [
    "strategies[0], test_num_impute(strategies[0])"
   ]
  },
  {
   "cell_type": "code",
   "execution_count": 24,
   "metadata": {},
   "outputs": [
    {
     "data": {
      "text/plain": [
       "('median', array([74., 74., 74., ..., 74., 74., 74.]))"
      ]
     },
     "execution_count": 24,
     "metadata": {},
     "output_type": "execute_result"
    }
   ],
   "source": [
    "strategies[1], test_num_impute(strategies[1])"
   ]
  },
  {
   "cell_type": "code",
   "execution_count": 25,
   "metadata": {},
   "outputs": [
    {
     "data": {
      "text/plain": [
       "('most_frequent', array([80., 80., 80., ..., 80., 80., 80.]))"
      ]
     },
     "execution_count": 25,
     "metadata": {},
     "output_type": "execute_result"
    }
   ],
   "source": [
    "strategies[2], test_num_impute(strategies[2])"
   ]
  },
  {
   "cell_type": "code",
   "execution_count": 26,
   "metadata": {},
   "outputs": [],
   "source": [
    "# Более сложная функция, которая позволяет задавать колонку и вид импьютации\n",
    "def test_num_impute_col(dataset, column, strategy_param):\n",
    "    temp_data = dataset[[column]]\n",
    "    \n",
    "    indicator = MissingIndicator()\n",
    "    mask_missing_values_only = indicator.fit_transform(temp_data)\n",
    "    \n",
    "    imp_num = SimpleImputer(strategy=strategy_param)\n",
    "    data_num_imp = imp_num.fit_transform(temp_data)\n",
    "    \n",
    "    filled_data = data_num_imp[mask_missing_values_only]\n",
    "    \n",
    "    return column, strategy_param, filled_data.size, filled_data[0], filled_data[filled_data.size-1]"
   ]
  },
  {
   "cell_type": "code",
   "execution_count": 28,
   "metadata": {},
   "outputs": [
    {
     "data": {
      "text/html": [
       "<div>\n",
       "<style scoped>\n",
       "    .dataframe tbody tr th:only-of-type {\n",
       "        vertical-align: middle;\n",
       "    }\n",
       "\n",
       "    .dataframe tbody tr th {\n",
       "        vertical-align: top;\n",
       "    }\n",
       "\n",
       "    .dataframe thead th {\n",
       "        text-align: right;\n",
       "    }\n",
       "</style>\n",
       "<table border=\"1\" class=\"dataframe\">\n",
       "  <thead>\n",
       "    <tr style=\"text-align: right;\">\n",
       "      <th></th>\n",
       "      <th>Metacritic</th>\n",
       "    </tr>\n",
       "  </thead>\n",
       "  <tbody>\n",
       "    <tr>\n",
       "      <th>count</th>\n",
       "      <td>3356.000000</td>\n",
       "    </tr>\n",
       "    <tr>\n",
       "      <th>mean</th>\n",
       "      <td>72.924911</td>\n",
       "    </tr>\n",
       "    <tr>\n",
       "      <th>std</th>\n",
       "      <td>10.805296</td>\n",
       "    </tr>\n",
       "    <tr>\n",
       "      <th>min</th>\n",
       "      <td>20.000000</td>\n",
       "    </tr>\n",
       "    <tr>\n",
       "      <th>25%</th>\n",
       "      <td>67.000000</td>\n",
       "    </tr>\n",
       "    <tr>\n",
       "      <th>50%</th>\n",
       "      <td>74.000000</td>\n",
       "    </tr>\n",
       "    <tr>\n",
       "      <th>75%</th>\n",
       "      <td>80.000000</td>\n",
       "    </tr>\n",
       "    <tr>\n",
       "      <th>max</th>\n",
       "      <td>97.000000</td>\n",
       "    </tr>\n",
       "  </tbody>\n",
       "</table>\n",
       "</div>"
      ],
      "text/plain": [
       "        Metacritic\n",
       "count  3356.000000\n",
       "mean     72.924911\n",
       "std      10.805296\n",
       "min      20.000000\n",
       "25%      67.000000\n",
       "50%      74.000000\n",
       "75%      80.000000\n",
       "max      97.000000"
      ]
     },
     "execution_count": 28,
     "metadata": {},
     "output_type": "execute_result"
    }
   ],
   "source": [
    "data[['Metacritic']].describe()"
   ]
  },
  {
   "cell_type": "code",
   "execution_count": 29,
   "metadata": {},
   "outputs": [
    {
     "data": {
      "text/plain": [
       "('Metacritic', 'mean', 26800, 72.92491060786651, 72.92491060786651)"
      ]
     },
     "execution_count": 29,
     "metadata": {},
     "output_type": "execute_result"
    }
   ],
   "source": [
    "test_num_impute_col(data, 'Metacritic', strategies[0])"
   ]
  },
  {
   "cell_type": "code",
   "execution_count": 30,
   "metadata": {},
   "outputs": [
    {
     "data": {
      "text/plain": [
       "('Metacritic', 'median', 26800, 74.0, 74.0)"
      ]
     },
     "execution_count": 30,
     "metadata": {},
     "output_type": "execute_result"
    }
   ],
   "source": [
    "test_num_impute_col(data, 'Metacritic', strategies[1])"
   ]
  },
  {
   "cell_type": "code",
   "execution_count": 31,
   "metadata": {},
   "outputs": [
    {
     "data": {
      "text/plain": [
       "('Metacritic', 'most_frequent', 26800, 80.0, 80.0)"
      ]
     },
     "execution_count": 31,
     "metadata": {},
     "output_type": "execute_result"
    }
   ],
   "source": [
    "test_num_impute_col(data, 'Metacritic', strategies[2])"
   ]
  },
  {
   "cell_type": "markdown",
   "metadata": {},
   "source": [
    "### Обработка пропусков в категориальных данных"
   ]
  },
  {
   "cell_type": "code",
   "execution_count": 33,
   "metadata": {},
   "outputs": [
    {
     "name": "stdout",
     "output_type": "stream",
     "text": [
      "Колонка SteamURL. Тип данных object. Количество пустых значений 55, 0.18%.\n",
      "Колонка Genres. Тип данных object. Количество пустых значений 2962, 9.79%.\n",
      "Колонка Platform. Тип данных object. Количество пустых значений 33, 0.11%.\n",
      "Колонка Graphics. Тип данных object. Количество пустых значений 4305, 14.23%.\n",
      "Колонка Storage. Тип данных object. Количество пустых значений 2752, 9.1%.\n",
      "Колонка Memory. Тип данных object. Количество пустых значений 1927, 6.37%.\n",
      "Колонка RatingsBreakdown. Тип данных object. Количество пустых значений 15112, 49.96%.\n",
      "Колонка ReleaseDate. Тип данных object. Количество пустых значений 3132, 10.35%.\n",
      "Колонка Franchise. Тип данных object. Количество пустых значений 25079, 82.91%.\n",
      "Колонка OriginalCost. Тип данных object. Количество пустых значений 743, 2.46%.\n",
      "Колонка DiscountedCost. Тип данных object. Количество пустых значений 29429, 97.29%.\n",
      "Колонка Players. Тип данных object. Количество пустых значений 17868, 59.07%.\n",
      "Колонка Languages. Тип данных object. Количество пустых значений 223, 0.74%.\n",
      "Колонка ESRB. Тип данных object. Количество пустых значений 25409, 84.0%.\n",
      "Колонка Description. Тип данных object. Количество пустых значений 125, 0.41%.\n",
      "Колонка Tags. Тип данных object. Количество пустых значений 205, 0.68%.\n"
     ]
    }
   ],
   "source": [
    "# Выберем категориальные колонки с пропущенными значениями\n",
    "# Цикл по колонкам датасета\n",
    "cat_cols = []\n",
    "for col in data.columns:\n",
    "    # Количество пустых значений \n",
    "    temp_null_count = data[data[col].isnull()].shape[0]\n",
    "    dt = str(data[col].dtype)\n",
    "    if temp_null_count>0 and (dt=='object'):\n",
    "        cat_cols.append(col)\n",
    "        temp_perc = round((temp_null_count / total_count) * 100.0, 2)\n",
    "        print('Колонка {}. Тип данных {}. Количество пустых значений {}, {}%.'.format(col, dt, temp_null_count, temp_perc))"
   ]
  },
  {
   "cell_type": "markdown",
   "metadata": {},
   "source": [
    "- Колонки, содержащие менее 5% пропусков выбираем для построения модели.\n",
    "- Колонки, содержащие менее 30% пропусков также выбираем для построения модели.\n",
    "- Колонки RatingsBreakdown (49.96%) и Players (59.07%) не выбираем для построения модели, в случае отсутствия необходимости в этих колонках.\n",
    "- Колонки Franchise (82.91%), DiscountedCost (97.29%) и ESRB (84.0%) не выбираем для построения модели в любом случае."
   ]
  },
  {
   "cell_type": "code",
   "execution_count": 34,
   "metadata": {},
   "outputs": [
    {
     "data": {
      "text/html": [
       "<div>\n",
       "<style scoped>\n",
       "    .dataframe tbody tr th:only-of-type {\n",
       "        vertical-align: middle;\n",
       "    }\n",
       "\n",
       "    .dataframe tbody tr th {\n",
       "        vertical-align: top;\n",
       "    }\n",
       "\n",
       "    .dataframe thead th {\n",
       "        text-align: right;\n",
       "    }\n",
       "</style>\n",
       "<table border=\"1\" class=\"dataframe\">\n",
       "  <thead>\n",
       "    <tr style=\"text-align: right;\">\n",
       "      <th></th>\n",
       "      <th>Genres</th>\n",
       "    </tr>\n",
       "  </thead>\n",
       "  <tbody>\n",
       "    <tr>\n",
       "      <th>0</th>\n",
       "      <td>Action, Free to Play</td>\n",
       "    </tr>\n",
       "    <tr>\n",
       "      <th>1</th>\n",
       "      <td>Action, Adventure, Free to Play</td>\n",
       "    </tr>\n",
       "    <tr>\n",
       "      <th>2</th>\n",
       "      <td>NaN</td>\n",
       "    </tr>\n",
       "    <tr>\n",
       "      <th>3</th>\n",
       "      <td>Massively Multiplayer, RPG</td>\n",
       "    </tr>\n",
       "    <tr>\n",
       "      <th>4</th>\n",
       "      <td>Action, Adventure</td>\n",
       "    </tr>\n",
       "  </tbody>\n",
       "</table>\n",
       "</div>"
      ],
      "text/plain": [
       "                            Genres\n",
       "0             Action, Free to Play\n",
       "1  Action, Adventure, Free to Play\n",
       "2                              NaN\n",
       "3       Massively Multiplayer, RPG\n",
       "4                Action, Adventure"
      ]
     },
     "execution_count": 34,
     "metadata": {},
     "output_type": "execute_result"
    }
   ],
   "source": [
    "cat_temp_data = data[['Genres']]\n",
    "cat_temp_data.head()"
   ]
  },
  {
   "cell_type": "code",
   "execution_count": 35,
   "metadata": {},
   "outputs": [
    {
     "data": {
      "text/plain": [
       "array(['Action, Free to Play', 'Action, Adventure, Free to Play', nan,\n",
       "       ..., 'Casual, Indie, Massively Multiplayer, RPG, Early Access',\n",
       "       'Action, Adventure, Casual, Racing, Simulation, Strategy',\n",
       "       'Action, Adventure, Casual, Sports, Strategy'], dtype=object)"
      ]
     },
     "execution_count": 35,
     "metadata": {},
     "output_type": "execute_result"
    }
   ],
   "source": [
    "cat_temp_data['Genres'].unique()"
   ]
  },
  {
   "cell_type": "code",
   "execution_count": 36,
   "metadata": {},
   "outputs": [
    {
     "data": {
      "text/plain": [
       "(2962, 1)"
      ]
     },
     "execution_count": 36,
     "metadata": {},
     "output_type": "execute_result"
    }
   ],
   "source": [
    "cat_temp_data[cat_temp_data['Genres'].isnull()].shape"
   ]
  },
  {
   "cell_type": "code",
   "execution_count": 37,
   "metadata": {},
   "outputs": [
    {
     "data": {
      "text/plain": [
       "array([['Action, Free to Play'],\n",
       "       ['Action, Adventure, Free to Play'],\n",
       "       ['Action, Indie'],\n",
       "       ...,\n",
       "       ['Casual'],\n",
       "       ['Action, Adventure, Casual, Indie'],\n",
       "       ['Action, Indie']], dtype=object)"
      ]
     },
     "execution_count": 37,
     "metadata": {},
     "output_type": "execute_result"
    }
   ],
   "source": [
    "# Импьютация наиболее частыми значениями\n",
    "imp2 = SimpleImputer(missing_values=np.nan, strategy='most_frequent')\n",
    "data_imp2 = imp2.fit_transform(cat_temp_data)\n",
    "data_imp2"
   ]
  },
  {
   "cell_type": "code",
   "execution_count": 38,
   "metadata": {},
   "outputs": [
    {
     "data": {
      "text/plain": [
       "array(['Action', 'Action, Adventure', 'Action, Adventure, Casual', ...,\n",
       "       'Strategy, Indie, Casual, Simulation', 'Strategy, RPG, Indie',\n",
       "       'Strategy, Simulation'], dtype=object)"
      ]
     },
     "execution_count": 38,
     "metadata": {},
     "output_type": "execute_result"
    }
   ],
   "source": [
    "# Пустые значения отсутствуют\n",
    "np.unique(data_imp2)"
   ]
  },
  {
   "cell_type": "code",
   "execution_count": 39,
   "metadata": {},
   "outputs": [
    {
     "data": {
      "text/plain": [
       "array([['Action, Free to Play'],\n",
       "       ['Action, Adventure, Free to Play'],\n",
       "       ['NA'],\n",
       "       ...,\n",
       "       ['Casual'],\n",
       "       ['Action, Adventure, Casual, Indie'],\n",
       "       ['NA']], dtype=object)"
      ]
     },
     "execution_count": 39,
     "metadata": {},
     "output_type": "execute_result"
    }
   ],
   "source": [
    "# Импьютация константой\n",
    "imp3 = SimpleImputer(missing_values=np.nan, strategy='constant', fill_value='NA')\n",
    "data_imp3 = imp3.fit_transform(cat_temp_data)\n",
    "data_imp3"
   ]
  },
  {
   "cell_type": "code",
   "execution_count": 40,
   "metadata": {},
   "outputs": [
    {
     "data": {
      "text/plain": [
       "array(['Action', 'Action, Adventure', 'Action, Adventure, Casual', ...,\n",
       "       'Strategy, Indie, Casual, Simulation', 'Strategy, RPG, Indie',\n",
       "       'Strategy, Simulation'], dtype=object)"
      ]
     },
     "execution_count": 40,
     "metadata": {},
     "output_type": "execute_result"
    }
   ],
   "source": [
    "np.unique(data_imp3)"
   ]
  },
  {
   "cell_type": "code",
   "execution_count": 41,
   "metadata": {},
   "outputs": [
    {
     "data": {
      "text/plain": [
       "2962"
      ]
     },
     "execution_count": 41,
     "metadata": {},
     "output_type": "execute_result"
    }
   ],
   "source": [
    "data_imp3[data_imp3=='NA'].size"
   ]
  },
  {
   "cell_type": "markdown",
   "metadata": {},
   "source": [
    "Таким образом, в колонку Genres вставлено 2962 \"NA\", вместо пропущенных значений."
   ]
  },
  {
   "cell_type": "markdown",
   "metadata": {},
   "source": [
    "# Преобразование категориальных признаков в числовые"
   ]
  },
  {
   "cell_type": "code",
   "execution_count": 42,
   "metadata": {},
   "outputs": [
    {
     "data": {
      "text/html": [
       "<div>\n",
       "<style scoped>\n",
       "    .dataframe tbody tr th:only-of-type {\n",
       "        vertical-align: middle;\n",
       "    }\n",
       "\n",
       "    .dataframe tbody tr th {\n",
       "        vertical-align: top;\n",
       "    }\n",
       "\n",
       "    .dataframe thead th {\n",
       "        text-align: right;\n",
       "    }\n",
       "</style>\n",
       "<table border=\"1\" class=\"dataframe\">\n",
       "  <thead>\n",
       "    <tr style=\"text-align: right;\">\n",
       "      <th></th>\n",
       "      <th>c1</th>\n",
       "    </tr>\n",
       "  </thead>\n",
       "  <tbody>\n",
       "    <tr>\n",
       "      <th>0</th>\n",
       "      <td>Action, Free to Play</td>\n",
       "    </tr>\n",
       "    <tr>\n",
       "      <th>1</th>\n",
       "      <td>Action, Adventure, Free to Play</td>\n",
       "    </tr>\n",
       "    <tr>\n",
       "      <th>2</th>\n",
       "      <td>Action, Indie</td>\n",
       "    </tr>\n",
       "    <tr>\n",
       "      <th>3</th>\n",
       "      <td>Massively Multiplayer, RPG</td>\n",
       "    </tr>\n",
       "    <tr>\n",
       "      <th>4</th>\n",
       "      <td>Action, Adventure</td>\n",
       "    </tr>\n",
       "    <tr>\n",
       "      <th>...</th>\n",
       "      <td>...</td>\n",
       "    </tr>\n",
       "    <tr>\n",
       "      <th>30151</th>\n",
       "      <td>Casual, Indie</td>\n",
       "    </tr>\n",
       "    <tr>\n",
       "      <th>30152</th>\n",
       "      <td>Indie</td>\n",
       "    </tr>\n",
       "    <tr>\n",
       "      <th>30153</th>\n",
       "      <td>Casual</td>\n",
       "    </tr>\n",
       "    <tr>\n",
       "      <th>30154</th>\n",
       "      <td>Action, Adventure, Casual, Indie</td>\n",
       "    </tr>\n",
       "    <tr>\n",
       "      <th>30155</th>\n",
       "      <td>Action, Indie</td>\n",
       "    </tr>\n",
       "  </tbody>\n",
       "</table>\n",
       "<p>30156 rows × 1 columns</p>\n",
       "</div>"
      ],
      "text/plain": [
       "                                     c1\n",
       "0                  Action, Free to Play\n",
       "1       Action, Adventure, Free to Play\n",
       "2                         Action, Indie\n",
       "3            Massively Multiplayer, RPG\n",
       "4                     Action, Adventure\n",
       "...                                 ...\n",
       "30151                     Casual, Indie\n",
       "30152                             Indie\n",
       "30153                            Casual\n",
       "30154  Action, Adventure, Casual, Indie\n",
       "30155                     Action, Indie\n",
       "\n",
       "[30156 rows x 1 columns]"
      ]
     },
     "execution_count": 42,
     "metadata": {},
     "output_type": "execute_result"
    }
   ],
   "source": [
    "cat_enc = pd.DataFrame({'c1':data_imp2.T[0]})\n",
    "cat_enc"
   ]
  },
  {
   "cell_type": "markdown",
   "metadata": {},
   "source": [
    "## Кодирование категорий целочисленными значениями - [label encoding](https://scikit-learn.org/stable/modules/generated/sklearn.preprocessing.LabelEncoder.html)"
   ]
  },
  {
   "cell_type": "code",
   "execution_count": 43,
   "metadata": {},
   "outputs": [],
   "source": [
    "from sklearn.preprocessing import LabelEncoder, OneHotEncoder"
   ]
  },
  {
   "cell_type": "code",
   "execution_count": 44,
   "metadata": {},
   "outputs": [],
   "source": [
    "le = LabelEncoder()\n",
    "cat_enc_le = le.fit_transform(cat_enc['c1'])"
   ]
  },
  {
   "cell_type": "code",
   "execution_count": 45,
   "metadata": {},
   "outputs": [
    {
     "data": {
      "text/plain": [
       "array(['Action, Free to Play', 'Action, Adventure, Free to Play',\n",
       "       'Action, Indie', ...,\n",
       "       'Casual, Indie, Massively Multiplayer, RPG, Early Access',\n",
       "       'Action, Adventure, Casual, Racing, Simulation, Strategy',\n",
       "       'Action, Adventure, Casual, Sports, Strategy'], dtype=object)"
      ]
     },
     "execution_count": 45,
     "metadata": {},
     "output_type": "execute_result"
    }
   ],
   "source": [
    "cat_enc['c1'].unique()"
   ]
  },
  {
   "cell_type": "code",
   "execution_count": 46,
   "metadata": {},
   "outputs": [
    {
     "data": {
      "text/plain": [
       "array([   0,    1,    2, ..., 1003, 1004, 1005])"
      ]
     },
     "execution_count": 46,
     "metadata": {},
     "output_type": "execute_result"
    }
   ],
   "source": [
    "np.unique(cat_enc_le)"
   ]
  },
  {
   "cell_type": "markdown",
   "metadata": {},
   "source": [
    "## Кодирование категорий наборами бинарных значений - [one-hot encoding](https://scikit-learn.org/stable/modules/generated/sklearn.preprocessing.OneHotEncoder.html)"
   ]
  },
  {
   "cell_type": "code",
   "execution_count": 47,
   "metadata": {},
   "outputs": [],
   "source": [
    "ohe = OneHotEncoder()\n",
    "cat_enc_ohe = ohe.fit_transform(cat_enc[['c1']])"
   ]
  },
  {
   "cell_type": "code",
   "execution_count": 48,
   "metadata": {},
   "outputs": [
    {
     "data": {
      "text/plain": [
       "(30156, 1)"
      ]
     },
     "execution_count": 48,
     "metadata": {},
     "output_type": "execute_result"
    }
   ],
   "source": [
    "cat_enc.shape"
   ]
  },
  {
   "cell_type": "code",
   "execution_count": 49,
   "metadata": {},
   "outputs": [
    {
     "data": {
      "text/plain": [
       "(30156, 1006)"
      ]
     },
     "execution_count": 49,
     "metadata": {},
     "output_type": "execute_result"
    }
   ],
   "source": [
    "cat_enc_ohe.shape"
   ]
  },
  {
   "cell_type": "code",
   "execution_count": 50,
   "metadata": {},
   "outputs": [
    {
     "data": {
      "text/plain": [
       "<30156x1006 sparse matrix of type '<class 'numpy.float64'>'\n",
       "\twith 30156 stored elements in Compressed Sparse Row format>"
      ]
     },
     "execution_count": 50,
     "metadata": {},
     "output_type": "execute_result"
    }
   ],
   "source": [
    "cat_enc_ohe"
   ]
  },
  {
   "cell_type": "code",
   "execution_count": 51,
   "metadata": {},
   "outputs": [
    {
     "data": {
      "text/plain": [
       "matrix([[0., 0., 0., ..., 0., 0., 0.],\n",
       "        [0., 0., 0., ..., 0., 0., 0.],\n",
       "        [0., 0., 0., ..., 0., 0., 0.],\n",
       "        ...,\n",
       "        [0., 0., 0., ..., 0., 0., 0.],\n",
       "        [1., 0., 0., ..., 0., 0., 0.],\n",
       "        [0., 0., 0., ..., 0., 0., 0.]])"
      ]
     },
     "execution_count": 51,
     "metadata": {},
     "output_type": "execute_result"
    }
   ],
   "source": [
    "cat_enc_ohe.todense()[0:10]"
   ]
  },
  {
   "cell_type": "code",
   "execution_count": 52,
   "metadata": {},
   "outputs": [
    {
     "data": {
      "text/html": [
       "<div>\n",
       "<style scoped>\n",
       "    .dataframe tbody tr th:only-of-type {\n",
       "        vertical-align: middle;\n",
       "    }\n",
       "\n",
       "    .dataframe tbody tr th {\n",
       "        vertical-align: top;\n",
       "    }\n",
       "\n",
       "    .dataframe thead th {\n",
       "        text-align: right;\n",
       "    }\n",
       "</style>\n",
       "<table border=\"1\" class=\"dataframe\">\n",
       "  <thead>\n",
       "    <tr style=\"text-align: right;\">\n",
       "      <th></th>\n",
       "      <th>c1</th>\n",
       "    </tr>\n",
       "  </thead>\n",
       "  <tbody>\n",
       "    <tr>\n",
       "      <th>0</th>\n",
       "      <td>Action, Free to Play</td>\n",
       "    </tr>\n",
       "    <tr>\n",
       "      <th>1</th>\n",
       "      <td>Action, Adventure, Free to Play</td>\n",
       "    </tr>\n",
       "    <tr>\n",
       "      <th>2</th>\n",
       "      <td>Action, Indie</td>\n",
       "    </tr>\n",
       "    <tr>\n",
       "      <th>3</th>\n",
       "      <td>Massively Multiplayer, RPG</td>\n",
       "    </tr>\n",
       "    <tr>\n",
       "      <th>4</th>\n",
       "      <td>Action, Adventure</td>\n",
       "    </tr>\n",
       "    <tr>\n",
       "      <th>5</th>\n",
       "      <td>Adventure, Indie, Simulation, Strategy, Early ...</td>\n",
       "    </tr>\n",
       "    <tr>\n",
       "      <th>6</th>\n",
       "      <td>Action</td>\n",
       "    </tr>\n",
       "    <tr>\n",
       "      <th>7</th>\n",
       "      <td>Action, Indie, Racing, Sports</td>\n",
       "    </tr>\n",
       "    <tr>\n",
       "      <th>8</th>\n",
       "      <td>Action</td>\n",
       "    </tr>\n",
       "    <tr>\n",
       "      <th>9</th>\n",
       "      <td>Action, Adventure, Indie, Massively Multiplaye...</td>\n",
       "    </tr>\n",
       "  </tbody>\n",
       "</table>\n",
       "</div>"
      ],
      "text/plain": [
       "                                                  c1\n",
       "0                               Action, Free to Play\n",
       "1                    Action, Adventure, Free to Play\n",
       "2                                      Action, Indie\n",
       "3                         Massively Multiplayer, RPG\n",
       "4                                  Action, Adventure\n",
       "5  Adventure, Indie, Simulation, Strategy, Early ...\n",
       "6                                             Action\n",
       "7                      Action, Indie, Racing, Sports\n",
       "8                                             Action\n",
       "9  Action, Adventure, Indie, Massively Multiplaye..."
      ]
     },
     "execution_count": 52,
     "metadata": {},
     "output_type": "execute_result"
    }
   ],
   "source": [
    "cat_enc.head(10)"
   ]
  },
  {
   "cell_type": "markdown",
   "metadata": {},
   "source": [
    "## [Pandas get_dummies](https://pandas.pydata.org/pandas-docs/stable/reference/api/pandas.get_dummies.html) - быстрый вариант one-hot кодирования"
   ]
  },
  {
   "cell_type": "code",
   "execution_count": 53,
   "metadata": {},
   "outputs": [
    {
     "data": {
      "text/html": [
       "<div>\n",
       "<style scoped>\n",
       "    .dataframe tbody tr th:only-of-type {\n",
       "        vertical-align: middle;\n",
       "    }\n",
       "\n",
       "    .dataframe tbody tr th {\n",
       "        vertical-align: top;\n",
       "    }\n",
       "\n",
       "    .dataframe thead th {\n",
       "        text-align: right;\n",
       "    }\n",
       "</style>\n",
       "<table border=\"1\" class=\"dataframe\">\n",
       "  <thead>\n",
       "    <tr style=\"text-align: right;\">\n",
       "      <th></th>\n",
       "      <th>c1_Action</th>\n",
       "      <th>c1_Action, Adventure</th>\n",
       "      <th>c1_Action, Adventure, Casual</th>\n",
       "      <th>c1_Action, Adventure, Casual, Early Access</th>\n",
       "      <th>c1_Action, Adventure, Casual, Free to Play, Indie</th>\n",
       "      <th>c1_Action, Adventure, Casual, Free to Play, Indie, Early Access</th>\n",
       "      <th>c1_Action, Adventure, Casual, Free to Play, Indie, Massively Multiplayer</th>\n",
       "      <th>c1_Action, Adventure, Casual, Free to Play, Indie, Massively Multiplayer, RPG</th>\n",
       "      <th>c1_Action, Adventure, Casual, Free to Play, Indie, Massively Multiplayer, RPG, Early Access</th>\n",
       "      <th>c1_Action, Adventure, Casual, Free to Play, Indie, Massively Multiplayer, RPG, Simulation</th>\n",
       "      <th>...</th>\n",
       "      <th>c1_Strategy</th>\n",
       "      <th>c1_Strategy, Action</th>\n",
       "      <th>c1_Strategy, Action, Simulation</th>\n",
       "      <th>c1_Strategy, Casual</th>\n",
       "      <th>c1_Strategy, Early Access</th>\n",
       "      <th>c1_Strategy, Indie</th>\n",
       "      <th>c1_Strategy, Indie, Casual</th>\n",
       "      <th>c1_Strategy, Indie, Casual, Simulation</th>\n",
       "      <th>c1_Strategy, RPG, Indie</th>\n",
       "      <th>c1_Strategy, Simulation</th>\n",
       "    </tr>\n",
       "  </thead>\n",
       "  <tbody>\n",
       "    <tr>\n",
       "      <th>0</th>\n",
       "      <td>0</td>\n",
       "      <td>0</td>\n",
       "      <td>0</td>\n",
       "      <td>0</td>\n",
       "      <td>0</td>\n",
       "      <td>0</td>\n",
       "      <td>0</td>\n",
       "      <td>0</td>\n",
       "      <td>0</td>\n",
       "      <td>0</td>\n",
       "      <td>...</td>\n",
       "      <td>0</td>\n",
       "      <td>0</td>\n",
       "      <td>0</td>\n",
       "      <td>0</td>\n",
       "      <td>0</td>\n",
       "      <td>0</td>\n",
       "      <td>0</td>\n",
       "      <td>0</td>\n",
       "      <td>0</td>\n",
       "      <td>0</td>\n",
       "    </tr>\n",
       "    <tr>\n",
       "      <th>1</th>\n",
       "      <td>0</td>\n",
       "      <td>0</td>\n",
       "      <td>0</td>\n",
       "      <td>0</td>\n",
       "      <td>0</td>\n",
       "      <td>0</td>\n",
       "      <td>0</td>\n",
       "      <td>0</td>\n",
       "      <td>0</td>\n",
       "      <td>0</td>\n",
       "      <td>...</td>\n",
       "      <td>0</td>\n",
       "      <td>0</td>\n",
       "      <td>0</td>\n",
       "      <td>0</td>\n",
       "      <td>0</td>\n",
       "      <td>0</td>\n",
       "      <td>0</td>\n",
       "      <td>0</td>\n",
       "      <td>0</td>\n",
       "      <td>0</td>\n",
       "    </tr>\n",
       "    <tr>\n",
       "      <th>2</th>\n",
       "      <td>0</td>\n",
       "      <td>0</td>\n",
       "      <td>0</td>\n",
       "      <td>0</td>\n",
       "      <td>0</td>\n",
       "      <td>0</td>\n",
       "      <td>0</td>\n",
       "      <td>0</td>\n",
       "      <td>0</td>\n",
       "      <td>0</td>\n",
       "      <td>...</td>\n",
       "      <td>0</td>\n",
       "      <td>0</td>\n",
       "      <td>0</td>\n",
       "      <td>0</td>\n",
       "      <td>0</td>\n",
       "      <td>0</td>\n",
       "      <td>0</td>\n",
       "      <td>0</td>\n",
       "      <td>0</td>\n",
       "      <td>0</td>\n",
       "    </tr>\n",
       "    <tr>\n",
       "      <th>3</th>\n",
       "      <td>0</td>\n",
       "      <td>0</td>\n",
       "      <td>0</td>\n",
       "      <td>0</td>\n",
       "      <td>0</td>\n",
       "      <td>0</td>\n",
       "      <td>0</td>\n",
       "      <td>0</td>\n",
       "      <td>0</td>\n",
       "      <td>0</td>\n",
       "      <td>...</td>\n",
       "      <td>0</td>\n",
       "      <td>0</td>\n",
       "      <td>0</td>\n",
       "      <td>0</td>\n",
       "      <td>0</td>\n",
       "      <td>0</td>\n",
       "      <td>0</td>\n",
       "      <td>0</td>\n",
       "      <td>0</td>\n",
       "      <td>0</td>\n",
       "    </tr>\n",
       "    <tr>\n",
       "      <th>4</th>\n",
       "      <td>0</td>\n",
       "      <td>1</td>\n",
       "      <td>0</td>\n",
       "      <td>0</td>\n",
       "      <td>0</td>\n",
       "      <td>0</td>\n",
       "      <td>0</td>\n",
       "      <td>0</td>\n",
       "      <td>0</td>\n",
       "      <td>0</td>\n",
       "      <td>...</td>\n",
       "      <td>0</td>\n",
       "      <td>0</td>\n",
       "      <td>0</td>\n",
       "      <td>0</td>\n",
       "      <td>0</td>\n",
       "      <td>0</td>\n",
       "      <td>0</td>\n",
       "      <td>0</td>\n",
       "      <td>0</td>\n",
       "      <td>0</td>\n",
       "    </tr>\n",
       "  </tbody>\n",
       "</table>\n",
       "<p>5 rows × 1006 columns</p>\n",
       "</div>"
      ],
      "text/plain": [
       "   c1_Action  c1_Action, Adventure  c1_Action, Adventure, Casual  \\\n",
       "0          0                     0                             0   \n",
       "1          0                     0                             0   \n",
       "2          0                     0                             0   \n",
       "3          0                     0                             0   \n",
       "4          0                     1                             0   \n",
       "\n",
       "   c1_Action, Adventure, Casual, Early Access  \\\n",
       "0                                           0   \n",
       "1                                           0   \n",
       "2                                           0   \n",
       "3                                           0   \n",
       "4                                           0   \n",
       "\n",
       "   c1_Action, Adventure, Casual, Free to Play, Indie  \\\n",
       "0                                                  0   \n",
       "1                                                  0   \n",
       "2                                                  0   \n",
       "3                                                  0   \n",
       "4                                                  0   \n",
       "\n",
       "   c1_Action, Adventure, Casual, Free to Play, Indie, Early Access  \\\n",
       "0                                                  0                 \n",
       "1                                                  0                 \n",
       "2                                                  0                 \n",
       "3                                                  0                 \n",
       "4                                                  0                 \n",
       "\n",
       "   c1_Action, Adventure, Casual, Free to Play, Indie, Massively Multiplayer  \\\n",
       "0                                                  0                          \n",
       "1                                                  0                          \n",
       "2                                                  0                          \n",
       "3                                                  0                          \n",
       "4                                                  0                          \n",
       "\n",
       "   c1_Action, Adventure, Casual, Free to Play, Indie, Massively Multiplayer, RPG  \\\n",
       "0                                                  0                               \n",
       "1                                                  0                               \n",
       "2                                                  0                               \n",
       "3                                                  0                               \n",
       "4                                                  0                               \n",
       "\n",
       "   c1_Action, Adventure, Casual, Free to Play, Indie, Massively Multiplayer, RPG, Early Access  \\\n",
       "0                                                  0                                             \n",
       "1                                                  0                                             \n",
       "2                                                  0                                             \n",
       "3                                                  0                                             \n",
       "4                                                  0                                             \n",
       "\n",
       "   c1_Action, Adventure, Casual, Free to Play, Indie, Massively Multiplayer, RPG, Simulation  \\\n",
       "0                                                  0                                           \n",
       "1                                                  0                                           \n",
       "2                                                  0                                           \n",
       "3                                                  0                                           \n",
       "4                                                  0                                           \n",
       "\n",
       "   ...  c1_Strategy  c1_Strategy, Action  c1_Strategy, Action, Simulation  \\\n",
       "0  ...            0                    0                                0   \n",
       "1  ...            0                    0                                0   \n",
       "2  ...            0                    0                                0   \n",
       "3  ...            0                    0                                0   \n",
       "4  ...            0                    0                                0   \n",
       "\n",
       "   c1_Strategy, Casual  c1_Strategy, Early Access  c1_Strategy, Indie  \\\n",
       "0                    0                          0                   0   \n",
       "1                    0                          0                   0   \n",
       "2                    0                          0                   0   \n",
       "3                    0                          0                   0   \n",
       "4                    0                          0                   0   \n",
       "\n",
       "   c1_Strategy, Indie, Casual  c1_Strategy, Indie, Casual, Simulation  \\\n",
       "0                           0                                       0   \n",
       "1                           0                                       0   \n",
       "2                           0                                       0   \n",
       "3                           0                                       0   \n",
       "4                           0                                       0   \n",
       "\n",
       "   c1_Strategy, RPG, Indie  c1_Strategy, Simulation  \n",
       "0                        0                        0  \n",
       "1                        0                        0  \n",
       "2                        0                        0  \n",
       "3                        0                        0  \n",
       "4                        0                        0  \n",
       "\n",
       "[5 rows x 1006 columns]"
      ]
     },
     "execution_count": 53,
     "metadata": {},
     "output_type": "execute_result"
    }
   ],
   "source": [
    "pd.get_dummies(cat_enc).head()"
   ]
  },
  {
   "cell_type": "code",
   "execution_count": 54,
   "metadata": {},
   "outputs": [
    {
     "data": {
      "text/html": [
       "<div>\n",
       "<style scoped>\n",
       "    .dataframe tbody tr th:only-of-type {\n",
       "        vertical-align: middle;\n",
       "    }\n",
       "\n",
       "    .dataframe tbody tr th {\n",
       "        vertical-align: top;\n",
       "    }\n",
       "\n",
       "    .dataframe thead th {\n",
       "        text-align: right;\n",
       "    }\n",
       "</style>\n",
       "<table border=\"1\" class=\"dataframe\">\n",
       "  <thead>\n",
       "    <tr style=\"text-align: right;\">\n",
       "      <th></th>\n",
       "      <th>Genres_Action</th>\n",
       "      <th>Genres_Action, Adventure</th>\n",
       "      <th>Genres_Action, Adventure, Casual</th>\n",
       "      <th>Genres_Action, Adventure, Casual, Early Access</th>\n",
       "      <th>Genres_Action, Adventure, Casual, Free to Play, Indie</th>\n",
       "      <th>Genres_Action, Adventure, Casual, Free to Play, Indie, Early Access</th>\n",
       "      <th>Genres_Action, Adventure, Casual, Free to Play, Indie, Massively Multiplayer</th>\n",
       "      <th>Genres_Action, Adventure, Casual, Free to Play, Indie, Massively Multiplayer, RPG</th>\n",
       "      <th>Genres_Action, Adventure, Casual, Free to Play, Indie, Massively Multiplayer, RPG, Early Access</th>\n",
       "      <th>Genres_Action, Adventure, Casual, Free to Play, Indie, Massively Multiplayer, RPG, Simulation</th>\n",
       "      <th>...</th>\n",
       "      <th>Genres_Strategy, Action</th>\n",
       "      <th>Genres_Strategy, Action, Simulation</th>\n",
       "      <th>Genres_Strategy, Casual</th>\n",
       "      <th>Genres_Strategy, Early Access</th>\n",
       "      <th>Genres_Strategy, Indie</th>\n",
       "      <th>Genres_Strategy, Indie, Casual</th>\n",
       "      <th>Genres_Strategy, Indie, Casual, Simulation</th>\n",
       "      <th>Genres_Strategy, RPG, Indie</th>\n",
       "      <th>Genres_Strategy, Simulation</th>\n",
       "      <th>Genres_nan</th>\n",
       "    </tr>\n",
       "  </thead>\n",
       "  <tbody>\n",
       "    <tr>\n",
       "      <th>0</th>\n",
       "      <td>0</td>\n",
       "      <td>0</td>\n",
       "      <td>0</td>\n",
       "      <td>0</td>\n",
       "      <td>0</td>\n",
       "      <td>0</td>\n",
       "      <td>0</td>\n",
       "      <td>0</td>\n",
       "      <td>0</td>\n",
       "      <td>0</td>\n",
       "      <td>...</td>\n",
       "      <td>0</td>\n",
       "      <td>0</td>\n",
       "      <td>0</td>\n",
       "      <td>0</td>\n",
       "      <td>0</td>\n",
       "      <td>0</td>\n",
       "      <td>0</td>\n",
       "      <td>0</td>\n",
       "      <td>0</td>\n",
       "      <td>0</td>\n",
       "    </tr>\n",
       "    <tr>\n",
       "      <th>1</th>\n",
       "      <td>0</td>\n",
       "      <td>0</td>\n",
       "      <td>0</td>\n",
       "      <td>0</td>\n",
       "      <td>0</td>\n",
       "      <td>0</td>\n",
       "      <td>0</td>\n",
       "      <td>0</td>\n",
       "      <td>0</td>\n",
       "      <td>0</td>\n",
       "      <td>...</td>\n",
       "      <td>0</td>\n",
       "      <td>0</td>\n",
       "      <td>0</td>\n",
       "      <td>0</td>\n",
       "      <td>0</td>\n",
       "      <td>0</td>\n",
       "      <td>0</td>\n",
       "      <td>0</td>\n",
       "      <td>0</td>\n",
       "      <td>0</td>\n",
       "    </tr>\n",
       "    <tr>\n",
       "      <th>2</th>\n",
       "      <td>0</td>\n",
       "      <td>0</td>\n",
       "      <td>0</td>\n",
       "      <td>0</td>\n",
       "      <td>0</td>\n",
       "      <td>0</td>\n",
       "      <td>0</td>\n",
       "      <td>0</td>\n",
       "      <td>0</td>\n",
       "      <td>0</td>\n",
       "      <td>...</td>\n",
       "      <td>0</td>\n",
       "      <td>0</td>\n",
       "      <td>0</td>\n",
       "      <td>0</td>\n",
       "      <td>0</td>\n",
       "      <td>0</td>\n",
       "      <td>0</td>\n",
       "      <td>0</td>\n",
       "      <td>0</td>\n",
       "      <td>1</td>\n",
       "    </tr>\n",
       "    <tr>\n",
       "      <th>3</th>\n",
       "      <td>0</td>\n",
       "      <td>0</td>\n",
       "      <td>0</td>\n",
       "      <td>0</td>\n",
       "      <td>0</td>\n",
       "      <td>0</td>\n",
       "      <td>0</td>\n",
       "      <td>0</td>\n",
       "      <td>0</td>\n",
       "      <td>0</td>\n",
       "      <td>...</td>\n",
       "      <td>0</td>\n",
       "      <td>0</td>\n",
       "      <td>0</td>\n",
       "      <td>0</td>\n",
       "      <td>0</td>\n",
       "      <td>0</td>\n",
       "      <td>0</td>\n",
       "      <td>0</td>\n",
       "      <td>0</td>\n",
       "      <td>0</td>\n",
       "    </tr>\n",
       "    <tr>\n",
       "      <th>4</th>\n",
       "      <td>0</td>\n",
       "      <td>1</td>\n",
       "      <td>0</td>\n",
       "      <td>0</td>\n",
       "      <td>0</td>\n",
       "      <td>0</td>\n",
       "      <td>0</td>\n",
       "      <td>0</td>\n",
       "      <td>0</td>\n",
       "      <td>0</td>\n",
       "      <td>...</td>\n",
       "      <td>0</td>\n",
       "      <td>0</td>\n",
       "      <td>0</td>\n",
       "      <td>0</td>\n",
       "      <td>0</td>\n",
       "      <td>0</td>\n",
       "      <td>0</td>\n",
       "      <td>0</td>\n",
       "      <td>0</td>\n",
       "      <td>0</td>\n",
       "    </tr>\n",
       "  </tbody>\n",
       "</table>\n",
       "<p>5 rows × 1007 columns</p>\n",
       "</div>"
      ],
      "text/plain": [
       "   Genres_Action  Genres_Action, Adventure  Genres_Action, Adventure, Casual  \\\n",
       "0              0                         0                                 0   \n",
       "1              0                         0                                 0   \n",
       "2              0                         0                                 0   \n",
       "3              0                         0                                 0   \n",
       "4              0                         1                                 0   \n",
       "\n",
       "   Genres_Action, Adventure, Casual, Early Access  \\\n",
       "0                                               0   \n",
       "1                                               0   \n",
       "2                                               0   \n",
       "3                                               0   \n",
       "4                                               0   \n",
       "\n",
       "   Genres_Action, Adventure, Casual, Free to Play, Indie  \\\n",
       "0                                                  0       \n",
       "1                                                  0       \n",
       "2                                                  0       \n",
       "3                                                  0       \n",
       "4                                                  0       \n",
       "\n",
       "   Genres_Action, Adventure, Casual, Free to Play, Indie, Early Access  \\\n",
       "0                                                  0                     \n",
       "1                                                  0                     \n",
       "2                                                  0                     \n",
       "3                                                  0                     \n",
       "4                                                  0                     \n",
       "\n",
       "   Genres_Action, Adventure, Casual, Free to Play, Indie, Massively Multiplayer  \\\n",
       "0                                                  0                              \n",
       "1                                                  0                              \n",
       "2                                                  0                              \n",
       "3                                                  0                              \n",
       "4                                                  0                              \n",
       "\n",
       "   Genres_Action, Adventure, Casual, Free to Play, Indie, Massively Multiplayer, RPG  \\\n",
       "0                                                  0                                   \n",
       "1                                                  0                                   \n",
       "2                                                  0                                   \n",
       "3                                                  0                                   \n",
       "4                                                  0                                   \n",
       "\n",
       "   Genres_Action, Adventure, Casual, Free to Play, Indie, Massively Multiplayer, RPG, Early Access  \\\n",
       "0                                                  0                                                 \n",
       "1                                                  0                                                 \n",
       "2                                                  0                                                 \n",
       "3                                                  0                                                 \n",
       "4                                                  0                                                 \n",
       "\n",
       "   Genres_Action, Adventure, Casual, Free to Play, Indie, Massively Multiplayer, RPG, Simulation  \\\n",
       "0                                                  0                                               \n",
       "1                                                  0                                               \n",
       "2                                                  0                                               \n",
       "3                                                  0                                               \n",
       "4                                                  0                                               \n",
       "\n",
       "   ...  Genres_Strategy, Action  Genres_Strategy, Action, Simulation  \\\n",
       "0  ...                        0                                    0   \n",
       "1  ...                        0                                    0   \n",
       "2  ...                        0                                    0   \n",
       "3  ...                        0                                    0   \n",
       "4  ...                        0                                    0   \n",
       "\n",
       "   Genres_Strategy, Casual  Genres_Strategy, Early Access  \\\n",
       "0                        0                              0   \n",
       "1                        0                              0   \n",
       "2                        0                              0   \n",
       "3                        0                              0   \n",
       "4                        0                              0   \n",
       "\n",
       "   Genres_Strategy, Indie  Genres_Strategy, Indie, Casual  \\\n",
       "0                       0                               0   \n",
       "1                       0                               0   \n",
       "2                       0                               0   \n",
       "3                       0                               0   \n",
       "4                       0                               0   \n",
       "\n",
       "   Genres_Strategy, Indie, Casual, Simulation  Genres_Strategy, RPG, Indie  \\\n",
       "0                                           0                            0   \n",
       "1                                           0                            0   \n",
       "2                                           0                            0   \n",
       "3                                           0                            0   \n",
       "4                                           0                            0   \n",
       "\n",
       "   Genres_Strategy, Simulation  Genres_nan  \n",
       "0                            0           0  \n",
       "1                            0           0  \n",
       "2                            0           1  \n",
       "3                            0           0  \n",
       "4                            0           0  \n",
       "\n",
       "[5 rows x 1007 columns]"
      ]
     },
     "execution_count": 54,
     "metadata": {},
     "output_type": "execute_result"
    }
   ],
   "source": [
    "pd.get_dummies(cat_temp_data, dummy_na=True).head()"
   ]
  },
  {
   "cell_type": "markdown",
   "metadata": {},
   "source": [
    "# Масштабирование данных"
   ]
  },
  {
   "cell_type": "markdown",
   "metadata": {},
   "source": [
    "- MinMax масштабирование:\n",
    "$$ x_{новый} = \\frac{x_{старый} - min(X)}{max(X)-min(X)} $$\n",
    "\n",
    "В этом случае значения лежат в диапазоне от 0 до 1.\n",
    "- Масштабирование данных на основе [Z-оценки](https://ru.wikipedia.org/wiki/Z-%D0%BE%D1%86%D0%B5%D0%BD%D0%BA%D0%B0):\n",
    "$$ x_{новый} = \\frac{x_{старый} - AVG(X) }{\\sigma(X)} $$\n",
    "\n",
    "В этом случае большинство значений попадает в диапазон от -3 до 3.\n",
    "\n",
    "где $X$ - матрица объект-признак, $AVG(X)$ - среднее значение, $\\sigma$ - среднеквадратичное отклонение."
   ]
  },
  {
   "cell_type": "code",
   "execution_count": 55,
   "metadata": {},
   "outputs": [],
   "source": [
    "from sklearn.preprocessing import MinMaxScaler, StandardScaler, Normalizer"
   ]
  },
  {
   "cell_type": "markdown",
   "metadata": {},
   "source": [
    "## [MinMax масштабирование](https://scikit-learn.org/stable/modules/generated/sklearn.preprocessing.MinMaxScaler.html)"
   ]
  },
  {
   "cell_type": "code",
   "execution_count": 56,
   "metadata": {},
   "outputs": [],
   "source": [
    "sc1 = MinMaxScaler()\n",
    "sc1_data = sc1.fit_transform(data[['Metacritic']])"
   ]
  },
  {
   "cell_type": "code",
   "execution_count": 57,
   "metadata": {},
   "outputs": [
    {
     "data": {
      "image/png": "[encoded data removed]",
      "text/plain": [
       "<Figure size 432x288 with 1 Axes>"
      ]
     },
     "metadata": {},
     "output_type": "display_data"
    }
   ],
   "source": [
    "plt.hist(data['Metacritic'], 50)\n",
    "plt.show()"
   ]
  },
  {
   "cell_type": "code",
   "execution_count": 58,
   "metadata": {},
   "outputs": [
    {
     "data": {
      "image/png": "[encoded data removed]",
      "text/plain": [
       "<Figure size 432x288 with 1 Axes>"
      ]
     },
     "metadata": {},
     "output_type": "display_data"
    }
   ],
   "source": [
    "plt.hist(sc1_data, 50)\n",
    "plt.show()"
   ]
  },
  {
   "cell_type": "markdown",
   "metadata": {},
   "source": [
    "## Масштабирование данных на основе [Z-оценки](https://ru.wikipedia.org/wiki/Z-%D0%BE%D1%86%D0%B5%D0%BD%D0%BA%D0%B0) - [StandardScaler](https://scikit-learn.org/stable/modules/generated/sklearn.preprocessing.StandardScaler.html#sklearn.preprocessing.StandardScaler)"
   ]
  },
  {
   "cell_type": "code",
   "execution_count": 59,
   "metadata": {},
   "outputs": [],
   "source": [
    "sc2 = StandardScaler()\n",
    "sc2_data = sc2.fit_transform(data[['Metacritic']])"
   ]
  },
  {
   "cell_type": "code",
   "execution_count": 60,
   "metadata": {},
   "outputs": [
    {
     "data": {
      "image/png": "[encoded data removed]",
      "text/plain": [
       "<Figure size 432x288 with 1 Axes>"
      ]
     },
     "metadata": {},
     "output_type": "display_data"
    }
   ],
   "source": [
    "plt.hist(sc2_data, 50)\n",
    "plt.show()"
   ]
  }
 ],
 "metadata": {
  "kernelspec": {
   "display_name": "Python 3",
   "language": "python",
   "name": "python3"
  },
  "language_info": {
   "codemirror_mode": {
    "name": "ipython",
    "version": 3
   },
   "file_extension": ".py",
   "mimetype": "text/x-python",
   "name": "python",
   "nbconvert_exporter": "python",
   "pygments_lexer": "ipython3",
   "version": "3.8.5"
  },
  "toc": {
   "base_numbering": 1,
   "nav_menu": {},
   "number_sections": true,
   "sideBar": true,
   "skip_h1_title": false,
   "title_cell": "Table of Contents",
   "title_sidebar": "Contents",
   "toc_cell": false,
   "toc_position": {},
   "toc_section_display": true,
   "toc_window_display": false
  },
  "widgets": {
   "application/vnd.jupyter.widget-state+json": {
    "state": {},
    "version_major": 2,
    "version_minor": 0
   }
  }
 },
 "nbformat": 4,
 "nbformat_minor": 2
}
